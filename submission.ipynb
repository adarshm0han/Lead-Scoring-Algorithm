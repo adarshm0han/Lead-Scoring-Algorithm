{
 "cells": [
  {
   "cell_type": "code",
   "execution_count": 1,
   "id": "74b35d34",
   "metadata": {
    "_cell_guid": "b1076dfc-b9ad-4769-8c92-a6c4dae69d19",
    "_uuid": "8f2839f25d086af736a60e9eeb907d3b93b6e0e5",
    "execution": {
     "iopub.execute_input": "2023-04-17T13:36:07.817657Z",
     "iopub.status.busy": "2023-04-17T13:36:07.817001Z",
     "iopub.status.idle": "2023-04-17T13:36:07.839177Z",
     "shell.execute_reply": "2023-04-17T13:36:07.837754Z"
    },
    "papermill": {
     "duration": 0.056319,
     "end_time": "2023-04-17T13:36:07.842532",
     "exception": false,
     "start_time": "2023-04-17T13:36:07.786213",
     "status": "completed"
    },
    "tags": []
   },
   "outputs": [
    {
     "name": "stdout",
     "output_type": "stream",
     "text": [
      "/kaggle/input/dev-o-thon-23/Rain.csv\n",
      "/kaggle/input/dev-o-thon-23/EST.csv\n"
     ]
    }
   ],
   "source": [
    "# This Python 3 environment comes with many helpful analytics libraries installed\n",
    "# It is defined by the kaggle/python Docker image: https://github.com/kaggle/docker-python\n",
    "# For example, here's several helpful packages to load\n",
    "\n",
    "import numpy as np # linear algebra\n",
    "import pandas as pd # data processing, CSV file I/O (e.g. pd.read_csv)\n",
    "\n",
    "# Input data files are available in the read-only \"../input/\" directory\n",
    "# For example, running this (by clicking run or pressing Shift+Enter) will list all files under the input directory\n",
    "\n",
    "import os\n",
    "for dirname, _, filenames in os.walk('/kaggle/input'):\n",
    "    for filename in filenames:\n",
    "        print(os.path.join(dirname, filename))\n",
    "\n",
    "# You can write up to 20GB to the current directory (/kaggle/working/) that gets preserved as output when you create a version using \"Save & Run All\" \n",
    "# You can also write temporary files to /kaggle/temp/, but they won't be saved outside of the current session"
   ]
  },
  {
   "cell_type": "code",
   "execution_count": 2,
   "id": "20605fb7",
   "metadata": {
    "execution": {
     "iopub.execute_input": "2023-04-17T13:36:07.893804Z",
     "iopub.status.busy": "2023-04-17T13:36:07.892431Z",
     "iopub.status.idle": "2023-04-17T13:36:09.803296Z",
     "shell.execute_reply": "2023-04-17T13:36:09.801611Z"
    },
    "papermill": {
     "duration": 1.939156,
     "end_time": "2023-04-17T13:36:09.806501",
     "exception": false,
     "start_time": "2023-04-17T13:36:07.867345",
     "status": "completed"
    },
    "tags": []
   },
   "outputs": [
    {
     "name": "stderr",
     "output_type": "stream",
     "text": [
      "/opt/conda/lib/python3.7/site-packages/IPython/core/interactiveshell.py:3553: DtypeWarning: Columns (14) have mixed types.Specify dtype option on import or set low_memory=False.\n",
      "  exec(code_obj, self.user_global_ns, self.user_ns)\n"
     ]
    }
   ],
   "source": [
    "rain_df=pd.read_csv(\"/kaggle/input/dev-o-thon-23/Rain.csv\")\n",
    "est_df=pd.read_csv(\"/kaggle/input/dev-o-thon-23/EST.csv\")"
   ]
  },
  {
   "cell_type": "code",
   "execution_count": 3,
   "id": "3148faf6",
   "metadata": {
    "execution": {
     "iopub.execute_input": "2023-04-17T13:36:09.854299Z",
     "iopub.status.busy": "2023-04-17T13:36:09.853817Z",
     "iopub.status.idle": "2023-04-17T13:36:09.908947Z",
     "shell.execute_reply": "2023-04-17T13:36:09.907473Z"
    },
    "papermill": {
     "duration": 0.080966,
     "end_time": "2023-04-17T13:36:09.911646",
     "exception": false,
     "start_time": "2023-04-17T13:36:09.830680",
     "status": "completed"
    },
    "tags": []
   },
   "outputs": [
    {
     "data": {
      "text/html": [
       "<div>\n",
       "<style scoped>\n",
       "    .dataframe tbody tr th:only-of-type {\n",
       "        vertical-align: middle;\n",
       "    }\n",
       "\n",
       "    .dataframe tbody tr th {\n",
       "        vertical-align: top;\n",
       "    }\n",
       "\n",
       "    .dataframe thead th {\n",
       "        text-align: right;\n",
       "    }\n",
       "</style>\n",
       "<table border=\"1\" class=\"dataframe\">\n",
       "  <thead>\n",
       "    <tr style=\"text-align: right;\">\n",
       "      <th></th>\n",
       "      <th>Unnamed: 0</th>\n",
       "      <th>Unnamed: 0.1</th>\n",
       "      <th>Email</th>\n",
       "      <th>Leads_Source</th>\n",
       "      <th>Work email</th>\n",
       "      <th>Job title</th>\n",
       "      <th>Sales owner</th>\n",
       "      <th>Owner Email</th>\n",
       "      <th>Territory</th>\n",
       "      <th>Team</th>\n",
       "      <th>...</th>\n",
       "      <th>Shipping</th>\n",
       "      <th>Total</th>\n",
       "      <th>Discount Amount</th>\n",
       "      <th>Payment Method</th>\n",
       "      <th>Refunded Amount</th>\n",
       "      <th>Vendor</th>\n",
       "      <th>Outstanding Balance</th>\n",
       "      <th>Source</th>\n",
       "      <th>Status</th>\n",
       "      <th>ID</th>\n",
       "    </tr>\n",
       "  </thead>\n",
       "  <tbody>\n",
       "    <tr>\n",
       "      <th>0</th>\n",
       "      <td>0</td>\n",
       "      <td>198598</td>\n",
       "      <td>gioe.sravan4895@mail.ru</td>\n",
       "      <td>Web</td>\n",
       "      <td>NaN</td>\n",
       "      <td>NaN</td>\n",
       "      <td>NaN</td>\n",
       "      <td>NaN</td>\n",
       "      <td>NaN</td>\n",
       "      <td>NaN</td>\n",
       "      <td>...</td>\n",
       "      <td>NaN</td>\n",
       "      <td>NaN</td>\n",
       "      <td>NaN</td>\n",
       "      <td>NaN</td>\n",
       "      <td>NaN</td>\n",
       "      <td>NaN</td>\n",
       "      <td>NaN</td>\n",
       "      <td>NaN</td>\n",
       "      <td>0</td>\n",
       "      <td>5c9af089-4276-44d6-a7c5-37a5130a6d32</td>\n",
       "    </tr>\n",
       "    <tr>\n",
       "      <th>1</th>\n",
       "      <td>1</td>\n",
       "      <td>188345</td>\n",
       "      <td>bosakprem4895@mail.ru</td>\n",
       "      <td>Web</td>\n",
       "      <td>NaN</td>\n",
       "      <td>NaN</td>\n",
       "      <td>NaN</td>\n",
       "      <td>NaN</td>\n",
       "      <td>NaN</td>\n",
       "      <td>NaN</td>\n",
       "      <td>...</td>\n",
       "      <td>NaN</td>\n",
       "      <td>NaN</td>\n",
       "      <td>NaN</td>\n",
       "      <td>NaN</td>\n",
       "      <td>NaN</td>\n",
       "      <td>NaN</td>\n",
       "      <td>NaN</td>\n",
       "      <td>NaN</td>\n",
       "      <td>0</td>\n",
       "      <td>f79a6c78-a825-4f9c-951c-c4d5328a191a</td>\n",
       "    </tr>\n",
       "    <tr>\n",
       "      <th>2</th>\n",
       "      <td>2</td>\n",
       "      <td>148798</td>\n",
       "      <td>anshumankumar9584895@mail.ru</td>\n",
       "      <td>Web</td>\n",
       "      <td>NaN</td>\n",
       "      <td>NaN</td>\n",
       "      <td>NaN</td>\n",
       "      <td>NaN</td>\n",
       "      <td>NaN</td>\n",
       "      <td>NaN</td>\n",
       "      <td>...</td>\n",
       "      <td>NaN</td>\n",
       "      <td>NaN</td>\n",
       "      <td>NaN</td>\n",
       "      <td>NaN</td>\n",
       "      <td>NaN</td>\n",
       "      <td>NaN</td>\n",
       "      <td>NaN</td>\n",
       "      <td>NaN</td>\n",
       "      <td>0</td>\n",
       "      <td>17c705fe-a3b3-4c8d-be86-22eb494ef1f3</td>\n",
       "    </tr>\n",
       "    <tr>\n",
       "      <th>3</th>\n",
       "      <td>3</td>\n",
       "      <td>78181</td>\n",
       "      <td>prasadgotteti24895@mail.ru</td>\n",
       "      <td>Shopify</td>\n",
       "      <td>NaN</td>\n",
       "      <td>NaN</td>\n",
       "      <td>NaN</td>\n",
       "      <td>NaN</td>\n",
       "      <td>NaN</td>\n",
       "      <td>NaN</td>\n",
       "      <td>...</td>\n",
       "      <td>0.0</td>\n",
       "      <td>17235.0</td>\n",
       "      <td>9139.0</td>\n",
       "      <td>manual</td>\n",
       "      <td>0.0</td>\n",
       "      <td>J&amp;J Leaping</td>\n",
       "      <td>0.0</td>\n",
       "      <td>shopify_draft_order</td>\n",
       "      <td>1</td>\n",
       "      <td>8c0e56f9-9d48-4a40-bbbd-017974075927</td>\n",
       "    </tr>\n",
       "    <tr>\n",
       "      <th>4</th>\n",
       "      <td>4</td>\n",
       "      <td>158346</td>\n",
       "      <td>nutrition22chd4895@mail.ru</td>\n",
       "      <td>Web</td>\n",
       "      <td>0.0</td>\n",
       "      <td>NaN</td>\n",
       "      <td>NaN</td>\n",
       "      <td>NaN</td>\n",
       "      <td>NaN</td>\n",
       "      <td>NaN</td>\n",
       "      <td>...</td>\n",
       "      <td>NaN</td>\n",
       "      <td>NaN</td>\n",
       "      <td>NaN</td>\n",
       "      <td>NaN</td>\n",
       "      <td>NaN</td>\n",
       "      <td>NaN</td>\n",
       "      <td>NaN</td>\n",
       "      <td>NaN</td>\n",
       "      <td>0</td>\n",
       "      <td>1b516685-c8a3-45be-8e70-f788b2d7577d</td>\n",
       "    </tr>\n",
       "    <tr>\n",
       "      <th>5</th>\n",
       "      <td>5</td>\n",
       "      <td>159311</td>\n",
       "      <td>satyam88954895@mail.ru</td>\n",
       "      <td>Web</td>\n",
       "      <td>NaN</td>\n",
       "      <td>NaN</td>\n",
       "      <td>Santosh Kumar</td>\n",
       "      <td>santosh.kumar4@J&amp;J47.COM</td>\n",
       "      <td>D2C WP Sales - All</td>\n",
       "      <td>J&amp;j_crto_AC_Sales_Team</td>\n",
       "      <td>...</td>\n",
       "      <td>NaN</td>\n",
       "      <td>NaN</td>\n",
       "      <td>NaN</td>\n",
       "      <td>NaN</td>\n",
       "      <td>NaN</td>\n",
       "      <td>NaN</td>\n",
       "      <td>NaN</td>\n",
       "      <td>NaN</td>\n",
       "      <td>0</td>\n",
       "      <td>d5b789a7-b317-436c-8cb6-499b4b456616</td>\n",
       "    </tr>\n",
       "    <tr>\n",
       "      <th>6</th>\n",
       "      <td>6</td>\n",
       "      <td>135224</td>\n",
       "      <td>contactshakil184895@mail.ru</td>\n",
       "      <td>Web</td>\n",
       "      <td>NaN</td>\n",
       "      <td>NaN</td>\n",
       "      <td>NaN</td>\n",
       "      <td>NaN</td>\n",
       "      <td>NaN</td>\n",
       "      <td>NaN</td>\n",
       "      <td>...</td>\n",
       "      <td>NaN</td>\n",
       "      <td>NaN</td>\n",
       "      <td>NaN</td>\n",
       "      <td>NaN</td>\n",
       "      <td>NaN</td>\n",
       "      <td>NaN</td>\n",
       "      <td>NaN</td>\n",
       "      <td>NaN</td>\n",
       "      <td>0</td>\n",
       "      <td>4091685e-ac14-4a00-a4bb-c6131b4bc83b</td>\n",
       "    </tr>\n",
       "    <tr>\n",
       "      <th>7</th>\n",
       "      <td>7</td>\n",
       "      <td>176075</td>\n",
       "      <td>rahulvarkderahulvarkde4895@mail.ru</td>\n",
       "      <td>Web</td>\n",
       "      <td>NaN</td>\n",
       "      <td>NaN</td>\n",
       "      <td>Gaurav Yadav</td>\n",
       "      <td>gaurav.yadav2@J&amp;J47.COM</td>\n",
       "      <td>D2C WP Sales - All</td>\n",
       "      <td>J&amp;j_crto_AC_Sales_Team</td>\n",
       "      <td>...</td>\n",
       "      <td>NaN</td>\n",
       "      <td>NaN</td>\n",
       "      <td>NaN</td>\n",
       "      <td>NaN</td>\n",
       "      <td>NaN</td>\n",
       "      <td>NaN</td>\n",
       "      <td>NaN</td>\n",
       "      <td>NaN</td>\n",
       "      <td>0</td>\n",
       "      <td>e1ff12a9-f5d1-4631-ac85-b18e93ae4742</td>\n",
       "    </tr>\n",
       "    <tr>\n",
       "      <th>8</th>\n",
       "      <td>8</td>\n",
       "      <td>188316</td>\n",
       "      <td>ksubrat7634895@mail.ru</td>\n",
       "      <td>Web</td>\n",
       "      <td>NaN</td>\n",
       "      <td>NaN</td>\n",
       "      <td>NaN</td>\n",
       "      <td>NaN</td>\n",
       "      <td>NaN</td>\n",
       "      <td>NaN</td>\n",
       "      <td>...</td>\n",
       "      <td>NaN</td>\n",
       "      <td>NaN</td>\n",
       "      <td>NaN</td>\n",
       "      <td>NaN</td>\n",
       "      <td>NaN</td>\n",
       "      <td>NaN</td>\n",
       "      <td>NaN</td>\n",
       "      <td>NaN</td>\n",
       "      <td>0</td>\n",
       "      <td>8cde00f3-707e-41de-8b4e-add5269807a8</td>\n",
       "    </tr>\n",
       "    <tr>\n",
       "      <th>9</th>\n",
       "      <td>9</td>\n",
       "      <td>187201</td>\n",
       "      <td>gopalkrishna829404895@mail.ru</td>\n",
       "      <td>Web</td>\n",
       "      <td>NaN</td>\n",
       "      <td>NaN</td>\n",
       "      <td>Mohd Adil</td>\n",
       "      <td>mohd.adil@J&amp;J47.COM</td>\n",
       "      <td>NaN</td>\n",
       "      <td>LSH Sales Team</td>\n",
       "      <td>...</td>\n",
       "      <td>NaN</td>\n",
       "      <td>NaN</td>\n",
       "      <td>NaN</td>\n",
       "      <td>NaN</td>\n",
       "      <td>NaN</td>\n",
       "      <td>NaN</td>\n",
       "      <td>NaN</td>\n",
       "      <td>NaN</td>\n",
       "      <td>0</td>\n",
       "      <td>bdf80398-a92f-4f0b-a113-48e9bb13810e</td>\n",
       "    </tr>\n",
       "  </tbody>\n",
       "</table>\n",
       "<p>10 rows × 30 columns</p>\n",
       "</div>"
      ],
      "text/plain": [
       "   Unnamed: 0  Unnamed: 0.1                               Email Leads_Source  \\\n",
       "0           0        198598             gioe.sravan4895@mail.ru          Web   \n",
       "1           1        188345               bosakprem4895@mail.ru          Web   \n",
       "2           2        148798        anshumankumar9584895@mail.ru          Web   \n",
       "3           3         78181          prasadgotteti24895@mail.ru      Shopify   \n",
       "4           4        158346          nutrition22chd4895@mail.ru          Web   \n",
       "5           5        159311              satyam88954895@mail.ru          Web   \n",
       "6           6        135224         contactshakil184895@mail.ru          Web   \n",
       "7           7        176075  rahulvarkderahulvarkde4895@mail.ru          Web   \n",
       "8           8        188316              ksubrat7634895@mail.ru          Web   \n",
       "9           9        187201       gopalkrishna829404895@mail.ru          Web   \n",
       "\n",
       "   Work email  Job title    Sales owner               Owner Email  \\\n",
       "0         NaN        NaN            NaN                       NaN   \n",
       "1         NaN        NaN            NaN                       NaN   \n",
       "2         NaN        NaN            NaN                       NaN   \n",
       "3         NaN        NaN            NaN                       NaN   \n",
       "4         0.0        NaN            NaN                       NaN   \n",
       "5         NaN        NaN  Santosh Kumar  santosh.kumar4@J&J47.COM   \n",
       "6         NaN        NaN            NaN                       NaN   \n",
       "7         NaN        NaN   Gaurav Yadav   gaurav.yadav2@J&J47.COM   \n",
       "8         NaN        NaN            NaN                       NaN   \n",
       "9         NaN        NaN      Mohd Adil       mohd.adil@J&J47.COM   \n",
       "\n",
       "            Territory                    Team  ... Shipping    Total  \\\n",
       "0                 NaN                     NaN  ...      NaN      NaN   \n",
       "1                 NaN                     NaN  ...      NaN      NaN   \n",
       "2                 NaN                     NaN  ...      NaN      NaN   \n",
       "3                 NaN                     NaN  ...      0.0  17235.0   \n",
       "4                 NaN                     NaN  ...      NaN      NaN   \n",
       "5  D2C WP Sales - All  J&j_crto_AC_Sales_Team  ...      NaN      NaN   \n",
       "6                 NaN                     NaN  ...      NaN      NaN   \n",
       "7  D2C WP Sales - All  J&j_crto_AC_Sales_Team  ...      NaN      NaN   \n",
       "8                 NaN                     NaN  ...      NaN      NaN   \n",
       "9                 NaN          LSH Sales Team  ...      NaN      NaN   \n",
       "\n",
       "  Discount Amount Payment Method Refunded Amount       Vendor  \\\n",
       "0             NaN            NaN             NaN          NaN   \n",
       "1             NaN            NaN             NaN          NaN   \n",
       "2             NaN            NaN             NaN          NaN   \n",
       "3          9139.0         manual             0.0  J&J Leaping   \n",
       "4             NaN            NaN             NaN          NaN   \n",
       "5             NaN            NaN             NaN          NaN   \n",
       "6             NaN            NaN             NaN          NaN   \n",
       "7             NaN            NaN             NaN          NaN   \n",
       "8             NaN            NaN             NaN          NaN   \n",
       "9             NaN            NaN             NaN          NaN   \n",
       "\n",
       "  Outstanding Balance               Source Status  \\\n",
       "0                 NaN                  NaN      0   \n",
       "1                 NaN                  NaN      0   \n",
       "2                 NaN                  NaN      0   \n",
       "3                 0.0  shopify_draft_order      1   \n",
       "4                 NaN                  NaN      0   \n",
       "5                 NaN                  NaN      0   \n",
       "6                 NaN                  NaN      0   \n",
       "7                 NaN                  NaN      0   \n",
       "8                 NaN                  NaN      0   \n",
       "9                 NaN                  NaN      0   \n",
       "\n",
       "                                     ID  \n",
       "0  5c9af089-4276-44d6-a7c5-37a5130a6d32  \n",
       "1  f79a6c78-a825-4f9c-951c-c4d5328a191a  \n",
       "2  17c705fe-a3b3-4c8d-be86-22eb494ef1f3  \n",
       "3  8c0e56f9-9d48-4a40-bbbd-017974075927  \n",
       "4  1b516685-c8a3-45be-8e70-f788b2d7577d  \n",
       "5  d5b789a7-b317-436c-8cb6-499b4b456616  \n",
       "6  4091685e-ac14-4a00-a4bb-c6131b4bc83b  \n",
       "7  e1ff12a9-f5d1-4631-ac85-b18e93ae4742  \n",
       "8  8cde00f3-707e-41de-8b4e-add5269807a8  \n",
       "9  bdf80398-a92f-4f0b-a113-48e9bb13810e  \n",
       "\n",
       "[10 rows x 30 columns]"
      ]
     },
     "execution_count": 3,
     "metadata": {},
     "output_type": "execute_result"
    }
   ],
   "source": [
    "rain_df.head(10)"
   ]
  },
  {
   "cell_type": "code",
   "execution_count": 4,
   "id": "160d433d",
   "metadata": {
    "execution": {
     "iopub.execute_input": "2023-04-17T13:36:09.958894Z",
     "iopub.status.busy": "2023-04-17T13:36:09.958457Z",
     "iopub.status.idle": "2023-04-17T13:36:10.085432Z",
     "shell.execute_reply": "2023-04-17T13:36:10.084179Z"
    },
    "papermill": {
     "duration": 0.153393,
     "end_time": "2023-04-17T13:36:10.087878",
     "exception": false,
     "start_time": "2023-04-17T13:36:09.934485",
     "status": "completed"
    },
    "tags": []
   },
   "outputs": [
    {
     "data": {
      "text/html": [
       "<div>\n",
       "<style scoped>\n",
       "    .dataframe tbody tr th:only-of-type {\n",
       "        vertical-align: middle;\n",
       "    }\n",
       "\n",
       "    .dataframe tbody tr th {\n",
       "        vertical-align: top;\n",
       "    }\n",
       "\n",
       "    .dataframe thead th {\n",
       "        text-align: right;\n",
       "    }\n",
       "</style>\n",
       "<table border=\"1\" class=\"dataframe\">\n",
       "  <thead>\n",
       "    <tr style=\"text-align: right;\">\n",
       "      <th></th>\n",
       "      <th>Unnamed: 0</th>\n",
       "      <th>Unnamed: 0.1</th>\n",
       "      <th>Work email</th>\n",
       "      <th>Job title</th>\n",
       "      <th>Accepts Marketing</th>\n",
       "      <th>Shipping</th>\n",
       "      <th>Total</th>\n",
       "      <th>Discount Amount</th>\n",
       "      <th>Refunded Amount</th>\n",
       "      <th>Outstanding Balance</th>\n",
       "      <th>Status</th>\n",
       "    </tr>\n",
       "  </thead>\n",
       "  <tbody>\n",
       "    <tr>\n",
       "      <th>count</th>\n",
       "      <td>149032.000000</td>\n",
       "      <td>149032.000000</td>\n",
       "      <td>1.0</td>\n",
       "      <td>0.0</td>\n",
       "      <td>21720.000000</td>\n",
       "      <td>21720.000000</td>\n",
       "      <td>2.172000e+04</td>\n",
       "      <td>2.172000e+04</td>\n",
       "      <td>21720.000000</td>\n",
       "      <td>2.172000e+04</td>\n",
       "      <td>149032.000000</td>\n",
       "    </tr>\n",
       "    <tr>\n",
       "      <th>mean</th>\n",
       "      <td>74515.500000</td>\n",
       "      <td>106384.056424</td>\n",
       "      <td>0.0</td>\n",
       "      <td>NaN</td>\n",
       "      <td>0.574908</td>\n",
       "      <td>22.215554</td>\n",
       "      <td>3.022193e+04</td>\n",
       "      <td>2.619813e+03</td>\n",
       "      <td>1.919896</td>\n",
       "      <td>2.161931e+04</td>\n",
       "      <td>0.174889</td>\n",
       "    </tr>\n",
       "    <tr>\n",
       "      <th>std</th>\n",
       "      <td>43021.976996</td>\n",
       "      <td>61517.822101</td>\n",
       "      <td>NaN</td>\n",
       "      <td>NaN</td>\n",
       "      <td>0.494368</td>\n",
       "      <td>372.570069</td>\n",
       "      <td>2.543728e+05</td>\n",
       "      <td>1.218538e+04</td>\n",
       "      <td>105.163026</td>\n",
       "      <td>2.752161e+05</td>\n",
       "      <td>0.379873</td>\n",
       "    </tr>\n",
       "    <tr>\n",
       "      <th>min</th>\n",
       "      <td>0.000000</td>\n",
       "      <td>2.000000</td>\n",
       "      <td>0.0</td>\n",
       "      <td>NaN</td>\n",
       "      <td>0.000000</td>\n",
       "      <td>0.000000</td>\n",
       "      <td>0.000000e+00</td>\n",
       "      <td>0.000000e+00</td>\n",
       "      <td>0.000000</td>\n",
       "      <td>-2.199000e+03</td>\n",
       "      <td>0.000000</td>\n",
       "    </tr>\n",
       "    <tr>\n",
       "      <th>25%</th>\n",
       "      <td>37257.750000</td>\n",
       "      <td>52990.750000</td>\n",
       "      <td>0.0</td>\n",
       "      <td>NaN</td>\n",
       "      <td>0.000000</td>\n",
       "      <td>0.000000</td>\n",
       "      <td>1.349100e+03</td>\n",
       "      <td>0.000000e+00</td>\n",
       "      <td>0.000000</td>\n",
       "      <td>0.000000e+00</td>\n",
       "      <td>0.000000</td>\n",
       "    </tr>\n",
       "    <tr>\n",
       "      <th>50%</th>\n",
       "      <td>74515.500000</td>\n",
       "      <td>106403.500000</td>\n",
       "      <td>0.0</td>\n",
       "      <td>NaN</td>\n",
       "      <td>1.000000</td>\n",
       "      <td>0.000000</td>\n",
       "      <td>4.779550e+03</td>\n",
       "      <td>2.649500e+02</td>\n",
       "      <td>0.000000</td>\n",
       "      <td>0.000000e+00</td>\n",
       "      <td>0.000000</td>\n",
       "    </tr>\n",
       "    <tr>\n",
       "      <th>75%</th>\n",
       "      <td>111773.250000</td>\n",
       "      <td>159647.250000</td>\n",
       "      <td>0.0</td>\n",
       "      <td>NaN</td>\n",
       "      <td>1.000000</td>\n",
       "      <td>0.000000</td>\n",
       "      <td>1.301900e+04</td>\n",
       "      <td>2.233000e+03</td>\n",
       "      <td>0.000000</td>\n",
       "      <td>2.298000e+03</td>\n",
       "      <td>0.000000</td>\n",
       "    </tr>\n",
       "    <tr>\n",
       "      <th>max</th>\n",
       "      <td>149031.000000</td>\n",
       "      <td>212903.000000</td>\n",
       "      <td>0.0</td>\n",
       "      <td>NaN</td>\n",
       "      <td>1.000000</td>\n",
       "      <td>26498.000000</td>\n",
       "      <td>2.249850e+07</td>\n",
       "      <td>1.328498e+06</td>\n",
       "      <td>11609.000000</td>\n",
       "      <td>2.498498e+07</td>\n",
       "      <td>1.000000</td>\n",
       "    </tr>\n",
       "  </tbody>\n",
       "</table>\n",
       "</div>"
      ],
      "text/plain": [
       "          Unnamed: 0   Unnamed: 0.1  Work email  Job title  Accepts Marketing  \\\n",
       "count  149032.000000  149032.000000         1.0        0.0       21720.000000   \n",
       "mean    74515.500000  106384.056424         0.0        NaN           0.574908   \n",
       "std     43021.976996   61517.822101         NaN        NaN           0.494368   \n",
       "min         0.000000       2.000000         0.0        NaN           0.000000   \n",
       "25%     37257.750000   52990.750000         0.0        NaN           0.000000   \n",
       "50%     74515.500000  106403.500000         0.0        NaN           1.000000   \n",
       "75%    111773.250000  159647.250000         0.0        NaN           1.000000   \n",
       "max    149031.000000  212903.000000         0.0        NaN           1.000000   \n",
       "\n",
       "           Shipping         Total  Discount Amount  Refunded Amount  \\\n",
       "count  21720.000000  2.172000e+04     2.172000e+04     21720.000000   \n",
       "mean      22.215554  3.022193e+04     2.619813e+03         1.919896   \n",
       "std      372.570069  2.543728e+05     1.218538e+04       105.163026   \n",
       "min        0.000000  0.000000e+00     0.000000e+00         0.000000   \n",
       "25%        0.000000  1.349100e+03     0.000000e+00         0.000000   \n",
       "50%        0.000000  4.779550e+03     2.649500e+02         0.000000   \n",
       "75%        0.000000  1.301900e+04     2.233000e+03         0.000000   \n",
       "max    26498.000000  2.249850e+07     1.328498e+06     11609.000000   \n",
       "\n",
       "       Outstanding Balance         Status  \n",
       "count         2.172000e+04  149032.000000  \n",
       "mean          2.161931e+04       0.174889  \n",
       "std           2.752161e+05       0.379873  \n",
       "min          -2.199000e+03       0.000000  \n",
       "25%           0.000000e+00       0.000000  \n",
       "50%           0.000000e+00       0.000000  \n",
       "75%           2.298000e+03       0.000000  \n",
       "max           2.498498e+07       1.000000  "
      ]
     },
     "execution_count": 4,
     "metadata": {},
     "output_type": "execute_result"
    }
   ],
   "source": [
    "rain_df.describe()"
   ]
  },
  {
   "cell_type": "code",
   "execution_count": 5,
   "id": "85e3d05f",
   "metadata": {
    "execution": {
     "iopub.execute_input": "2023-04-17T13:36:10.135789Z",
     "iopub.status.busy": "2023-04-17T13:36:10.134548Z",
     "iopub.status.idle": "2023-04-17T13:36:10.279270Z",
     "shell.execute_reply": "2023-04-17T13:36:10.278294Z"
    },
    "papermill": {
     "duration": 0.17137,
     "end_time": "2023-04-17T13:36:10.281936",
     "exception": false,
     "start_time": "2023-04-17T13:36:10.110566",
     "status": "completed"
    },
    "tags": []
   },
   "outputs": [
    {
     "name": "stdout",
     "output_type": "stream",
     "text": [
      "<class 'pandas.core.frame.DataFrame'>\n",
      "RangeIndex: 149032 entries, 0 to 149031\n",
      "Data columns (total 30 columns):\n",
      " #   Column                Non-Null Count   Dtype  \n",
      "---  ------                --------------   -----  \n",
      " 0   Unnamed: 0            149032 non-null  int64  \n",
      " 1   Unnamed: 0.1          149032 non-null  int64  \n",
      " 2   Email                 144673 non-null  object \n",
      " 3   Leads_Source          149032 non-null  object \n",
      " 4   Work email            1 non-null       float64\n",
      " 5   Job title             0 non-null       float64\n",
      " 6   Sales owner           60435 non-null   object \n",
      " 7   Owner Email           60435 non-null   object \n",
      " 8   Territory             8056 non-null    object \n",
      " 9   Team                  60311 non-null   object \n",
      " 10  Pcrtoduct_interested  31642 non-null   object \n",
      " 11  Lead_Zipcode          99933 non-null   object \n",
      " 12  Lead_State            99195 non-null   object \n",
      " 13  Lead_city             100793 non-null  object \n",
      " 14  url-campaign          2 non-null       object \n",
      " 15  page-url              15394 non-null   object \n",
      " 16  Lead_hour             149032 non-null  object \n",
      " 17  Fulfillment Status    21720 non-null   object \n",
      " 18  Fulfilled at          20144 non-null   object \n",
      " 19  Accepts Marketing     21720 non-null   float64\n",
      " 20  Shipping              21720 non-null   float64\n",
      " 21  Total                 21720 non-null   float64\n",
      " 22  Discount Amount       21720 non-null   float64\n",
      " 23  Payment Method        21679 non-null   object \n",
      " 24  Refunded Amount       21720 non-null   float64\n",
      " 25  Vendor                26057 non-null   object \n",
      " 26  Outstanding Balance   21720 non-null   float64\n",
      " 27  Source                21720 non-null   object \n",
      " 28  Status                149032 non-null  int64  \n",
      " 29  ID                    149032 non-null  object \n",
      "dtypes: float64(8), int64(3), object(19)\n",
      "memory usage: 34.1+ MB\n"
     ]
    }
   ],
   "source": [
    "rain_df.info()"
   ]
  },
  {
   "cell_type": "code",
   "execution_count": 6,
   "id": "7f716b3d",
   "metadata": {
    "execution": {
     "iopub.execute_input": "2023-04-17T13:36:10.329439Z",
     "iopub.status.busy": "2023-04-17T13:36:10.328912Z",
     "iopub.status.idle": "2023-04-17T13:36:10.462314Z",
     "shell.execute_reply": "2023-04-17T13:36:10.461091Z"
    },
    "papermill": {
     "duration": 0.160185,
     "end_time": "2023-04-17T13:36:10.465087",
     "exception": false,
     "start_time": "2023-04-17T13:36:10.304902",
     "status": "completed"
    },
    "tags": []
   },
   "outputs": [
    {
     "data": {
      "text/plain": [
       "Unnamed: 0                   0\n",
       "Unnamed: 0.1                 0\n",
       "Email                     4359\n",
       "Leads_Source                 0\n",
       "Work email              149031\n",
       "Job title               149032\n",
       "Sales owner              88597\n",
       "Owner Email              88597\n",
       "Territory               140976\n",
       "Team                     88721\n",
       "Pcrtoduct_interested    117390\n",
       "Lead_Zipcode             49099\n",
       "Lead_State               49837\n",
       "Lead_city                48239\n",
       "url-campaign            149030\n",
       "page-url                133638\n",
       "Lead_hour                    0\n",
       "Fulfillment Status      127312\n",
       "Fulfilled at            128888\n",
       "Accepts Marketing       127312\n",
       "Shipping                127312\n",
       "Total                   127312\n",
       "Discount Amount         127312\n",
       "Payment Method          127353\n",
       "Refunded Amount         127312\n",
       "Vendor                  122975\n",
       "Outstanding Balance     127312\n",
       "Source                  127312\n",
       "Status                       0\n",
       "ID                           0\n",
       "dtype: int64"
      ]
     },
     "execution_count": 6,
     "metadata": {},
     "output_type": "execute_result"
    }
   ],
   "source": [
    "rain_df.isnull().sum()"
   ]
  },
  {
   "cell_type": "code",
   "execution_count": 7,
   "id": "12917a14",
   "metadata": {
    "execution": {
     "iopub.execute_input": "2023-04-17T13:36:10.512239Z",
     "iopub.status.busy": "2023-04-17T13:36:10.511661Z",
     "iopub.status.idle": "2023-04-17T13:36:10.516774Z",
     "shell.execute_reply": "2023-04-17T13:36:10.515584Z"
    },
    "papermill": {
     "duration": 0.031777,
     "end_time": "2023-04-17T13:36:10.519338",
     "exception": false,
     "start_time": "2023-04-17T13:36:10.487561",
     "status": "completed"
    },
    "tags": []
   },
   "outputs": [],
   "source": [
    "# # select the columns you want to find the correlation for\n",
    "# columns = ['Accepts Marketing', 'Shipping', 'Total', 'Discount Amount', \n",
    "#            'Payment Method', 'Refunded Amount', 'Vendor', 'Outstanding Balance', 'Source']\n",
    "\n",
    "# # create a correlation matrix using the corr() method\n",
    "# correlation_matrix = rain_df[columns].corr()\n",
    "\n",
    "# # print the correlation matrix\n",
    "# print(correlation_matrix)\n",
    "\n",
    "# sns.heatmap(correlation_matrix, annot=True, cmap='coolwarm', center=0)\n",
    "# plt.show()"
   ]
  },
  {
   "cell_type": "code",
   "execution_count": 8,
   "id": "4a96e45e",
   "metadata": {
    "execution": {
     "iopub.execute_input": "2023-04-17T13:36:10.566277Z",
     "iopub.status.busy": "2023-04-17T13:36:10.565833Z",
     "iopub.status.idle": "2023-04-17T13:36:10.622367Z",
     "shell.execute_reply": "2023-04-17T13:36:10.621186Z"
    },
    "papermill": {
     "duration": 0.083497,
     "end_time": "2023-04-17T13:36:10.625311",
     "exception": false,
     "start_time": "2023-04-17T13:36:10.541814",
     "status": "completed"
    },
    "tags": []
   },
   "outputs": [],
   "source": [
    "df = rain_df.copy()"
   ]
  },
  {
   "cell_type": "code",
   "execution_count": 9,
   "id": "8aaf53fc",
   "metadata": {
    "execution": {
     "iopub.execute_input": "2023-04-17T13:36:10.672773Z",
     "iopub.status.busy": "2023-04-17T13:36:10.672363Z",
     "iopub.status.idle": "2023-04-17T13:36:10.980500Z",
     "shell.execute_reply": "2023-04-17T13:36:10.979062Z"
    },
    "papermill": {
     "duration": 0.335239,
     "end_time": "2023-04-17T13:36:10.983160",
     "exception": false,
     "start_time": "2023-04-17T13:36:10.647921",
     "status": "completed"
    },
    "tags": []
   },
   "outputs": [
    {
     "name": "stdout",
     "output_type": "stream",
     "text": [
      "Unnamed: 0\n",
      "149032\n",
      "Unnamed: 0.1\n",
      "149032\n",
      "Email\n",
      "137321\n",
      "Leads_Source\n",
      "17\n",
      "Work email\n",
      "1\n",
      "Job title\n",
      "0\n",
      "Sales owner\n",
      "54\n",
      "Owner Email\n",
      "56\n",
      "Territory\n",
      "17\n",
      "Team\n",
      "3\n",
      "Pcrtoduct_interested\n",
      "99\n",
      "Lead_Zipcode\n",
      "8286\n",
      "Lead_State\n",
      "173\n",
      "Lead_city\n",
      "7652\n",
      "url-campaign\n",
      "2\n",
      "page-url\n",
      "6413\n",
      "Lead_hour\n",
      "102490\n",
      "Fulfillment Status\n",
      "3\n",
      "Fulfilled at\n",
      "20103\n",
      "Accepts Marketing\n",
      "2\n",
      "Shipping\n",
      "31\n",
      "Total\n",
      "4204\n",
      "Discount Amount\n",
      "3385\n",
      "Payment Method\n",
      "19\n",
      "Refunded Amount\n",
      "14\n",
      "Vendor\n",
      "2\n",
      "Outstanding Balance\n",
      "2636\n",
      "Source\n",
      "11\n",
      "Status\n",
      "2\n",
      "ID\n",
      "149032\n"
     ]
    }
   ],
   "source": [
    "for col in rain_df.columns:\n",
    "    print(col)\n",
    "    print(df[col].nunique())"
   ]
  },
  {
   "cell_type": "code",
   "execution_count": 10,
   "id": "aad1101e",
   "metadata": {
    "execution": {
     "iopub.execute_input": "2023-04-17T13:36:11.032265Z",
     "iopub.status.busy": "2023-04-17T13:36:11.031387Z",
     "iopub.status.idle": "2023-04-17T13:36:11.037436Z",
     "shell.execute_reply": "2023-04-17T13:36:11.036247Z"
    },
    "papermill": {
     "duration": 0.03312,
     "end_time": "2023-04-17T13:36:11.039719",
     "exception": false,
     "start_time": "2023-04-17T13:36:11.006599",
     "status": "completed"
    },
    "tags": []
   },
   "outputs": [
    {
     "name": "stdout",
     "output_type": "stream",
     "text": [
      "(149032, 30)\n"
     ]
    }
   ],
   "source": [
    "print(rain_df.shape)"
   ]
  },
  {
   "cell_type": "code",
   "execution_count": 11,
   "id": "ee067500",
   "metadata": {
    "execution": {
     "iopub.execute_input": "2023-04-17T13:36:11.088040Z",
     "iopub.status.busy": "2023-04-17T13:36:11.086985Z",
     "iopub.status.idle": "2023-04-17T13:36:12.349624Z",
     "shell.execute_reply": "2023-04-17T13:36:12.348552Z"
    },
    "papermill": {
     "duration": 1.28992,
     "end_time": "2023-04-17T13:36:12.352274",
     "exception": false,
     "start_time": "2023-04-17T13:36:11.062354",
     "status": "completed"
    },
    "tags": []
   },
   "outputs": [],
   "source": [
    "import seaborn as sns\n",
    "import matplotlib.pyplot as plt"
   ]
  },
  {
   "cell_type": "code",
   "execution_count": 12,
   "id": "315ac5e1",
   "metadata": {
    "execution": {
     "iopub.execute_input": "2023-04-17T13:36:12.399874Z",
     "iopub.status.busy": "2023-04-17T13:36:12.399160Z",
     "iopub.status.idle": "2023-04-17T13:36:12.531623Z",
     "shell.execute_reply": "2023-04-17T13:36:12.530297Z"
    },
    "papermill": {
     "duration": 0.159439,
     "end_time": "2023-04-17T13:36:12.534400",
     "exception": false,
     "start_time": "2023-04-17T13:36:12.374961",
     "status": "completed"
    },
    "tags": []
   },
   "outputs": [
    {
     "data": {
      "text/plain": [
       "Unnamed: 0                   0\n",
       "Unnamed: 0.1                 0\n",
       "Email                     4359\n",
       "Leads_Source                 0\n",
       "Work email              149031\n",
       "Job title               149032\n",
       "Sales owner              88597\n",
       "Owner Email              88597\n",
       "Territory               140976\n",
       "Team                     88721\n",
       "Pcrtoduct_interested    117390\n",
       "Lead_Zipcode             49099\n",
       "Lead_State               49837\n",
       "Lead_city                48239\n",
       "url-campaign            149030\n",
       "page-url                133638\n",
       "Lead_hour                    0\n",
       "Fulfillment Status      127312\n",
       "Fulfilled at            128888\n",
       "Accepts Marketing       127312\n",
       "Shipping                127312\n",
       "Total                   127312\n",
       "Discount Amount         127312\n",
       "Payment Method          127353\n",
       "Refunded Amount         127312\n",
       "Vendor                  122975\n",
       "Outstanding Balance     127312\n",
       "Source                  127312\n",
       "Status                       0\n",
       "ID                           0\n",
       "dtype: int64"
      ]
     },
     "execution_count": 12,
     "metadata": {},
     "output_type": "execute_result"
    }
   ],
   "source": [
    "df.isnull().sum()"
   ]
  },
  {
   "cell_type": "code",
   "execution_count": 13,
   "id": "bdeba989",
   "metadata": {
    "execution": {
     "iopub.execute_input": "2023-04-17T13:36:12.582818Z",
     "iopub.status.busy": "2023-04-17T13:36:12.582382Z",
     "iopub.status.idle": "2023-04-17T13:36:12.612795Z",
     "shell.execute_reply": "2023-04-17T13:36:12.611707Z"
    },
    "papermill": {
     "duration": 0.057719,
     "end_time": "2023-04-17T13:36:12.615513",
     "exception": false,
     "start_time": "2023-04-17T13:36:12.557794",
     "status": "completed"
    },
    "tags": []
   },
   "outputs": [],
   "source": [
    "df_drop = df.drop(['Unnamed: 0', 'Unnamed: 0.1', 'Work email', 'Job title', 'Owner Email', 'Lead_Zipcode', 'Territory', 'Fulfillment Status', 'Fulfilled at', 'Shipping', 'ID', 'Payment Method', 'Refunded Amount', 'url-campaign'], axis=1)"
   ]
  },
  {
   "cell_type": "code",
   "execution_count": 14,
   "id": "4a44eccd",
   "metadata": {
    "execution": {
     "iopub.execute_input": "2023-04-17T13:36:12.663765Z",
     "iopub.status.busy": "2023-04-17T13:36:12.663368Z",
     "iopub.status.idle": "2023-04-17T13:36:12.755292Z",
     "shell.execute_reply": "2023-04-17T13:36:12.753328Z"
    },
    "papermill": {
     "duration": 0.119416,
     "end_time": "2023-04-17T13:36:12.757947",
     "exception": false,
     "start_time": "2023-04-17T13:36:12.638531",
     "status": "completed"
    },
    "tags": []
   },
   "outputs": [
    {
     "name": "stdout",
     "output_type": "stream",
     "text": [
      "<class 'pandas.core.frame.DataFrame'>\n",
      "RangeIndex: 149032 entries, 0 to 149031\n",
      "Data columns (total 16 columns):\n",
      " #   Column                Non-Null Count   Dtype  \n",
      "---  ------                --------------   -----  \n",
      " 0   Email                 144673 non-null  object \n",
      " 1   Leads_Source          149032 non-null  object \n",
      " 2   Sales owner           60435 non-null   object \n",
      " 3   Team                  60311 non-null   object \n",
      " 4   Pcrtoduct_interested  31642 non-null   object \n",
      " 5   Lead_State            99195 non-null   object \n",
      " 6   Lead_city             100793 non-null  object \n",
      " 7   page-url              15394 non-null   object \n",
      " 8   Lead_hour             149032 non-null  object \n",
      " 9   Accepts Marketing     21720 non-null   float64\n",
      " 10  Total                 21720 non-null   float64\n",
      " 11  Discount Amount       21720 non-null   float64\n",
      " 12  Vendor                26057 non-null   object \n",
      " 13  Outstanding Balance   21720 non-null   float64\n",
      " 14  Source                21720 non-null   object \n",
      " 15  Status                149032 non-null  int64  \n",
      "dtypes: float64(4), int64(1), object(11)\n",
      "memory usage: 18.2+ MB\n"
     ]
    }
   ],
   "source": [
    "df_drop.info()"
   ]
  },
  {
   "cell_type": "code",
   "execution_count": 15,
   "id": "244c3fe2",
   "metadata": {
    "execution": {
     "iopub.execute_input": "2023-04-17T13:36:12.805781Z",
     "iopub.status.busy": "2023-04-17T13:36:12.805354Z",
     "iopub.status.idle": "2023-04-17T13:36:12.890562Z",
     "shell.execute_reply": "2023-04-17T13:36:12.889284Z"
    },
    "papermill": {
     "duration": 0.112378,
     "end_time": "2023-04-17T13:36:12.893473",
     "exception": false,
     "start_time": "2023-04-17T13:36:12.781095",
     "status": "completed"
    },
    "tags": []
   },
   "outputs": [
    {
     "data": {
      "text/plain": [
       "Email                     4359\n",
       "Leads_Source                 0\n",
       "Sales owner              88597\n",
       "Team                     88721\n",
       "Pcrtoduct_interested    117390\n",
       "Lead_State               49837\n",
       "Lead_city                48239\n",
       "page-url                133638\n",
       "Lead_hour                    0\n",
       "Accepts Marketing       127312\n",
       "Total                   127312\n",
       "Discount Amount         127312\n",
       "Vendor                  122975\n",
       "Outstanding Balance     127312\n",
       "Source                  127312\n",
       "Status                       0\n",
       "dtype: int64"
      ]
     },
     "execution_count": 15,
     "metadata": {},
     "output_type": "execute_result"
    }
   ],
   "source": [
    "df_drop.isnull().sum()\n"
   ]
  },
  {
   "cell_type": "code",
   "execution_count": 16,
   "id": "80edfc6a",
   "metadata": {
    "execution": {
     "iopub.execute_input": "2023-04-17T13:36:12.945301Z",
     "iopub.status.busy": "2023-04-17T13:36:12.944849Z",
     "iopub.status.idle": "2023-04-17T13:36:13.118735Z",
     "shell.execute_reply": "2023-04-17T13:36:13.117134Z"
    },
    "papermill": {
     "duration": 0.203829,
     "end_time": "2023-04-17T13:36:13.121714",
     "exception": false,
     "start_time": "2023-04-17T13:36:12.917885",
     "status": "completed"
    },
    "tags": []
   },
   "outputs": [
    {
     "name": "stdout",
     "output_type": "stream",
     "text": [
      "Email\n",
      "137321\n",
      "Leads_Source\n",
      "17\n",
      "Sales owner\n",
      "54\n",
      "Team\n",
      "3\n",
      "Pcrtoduct_interested\n",
      "99\n",
      "Lead_State\n",
      "173\n",
      "Lead_city\n",
      "7652\n",
      "page-url\n",
      "6413\n",
      "Lead_hour\n",
      "102490\n",
      "Accepts Marketing\n",
      "2\n",
      "Total\n",
      "4204\n",
      "Discount Amount\n",
      "3385\n",
      "Vendor\n",
      "2\n",
      "Outstanding Balance\n",
      "2636\n",
      "Source\n",
      "11\n",
      "Status\n",
      "2\n"
     ]
    }
   ],
   "source": [
    "for col in df_drop.columns:\n",
    "    print(col)\n",
    "    print(df_drop[col].nunique())"
   ]
  },
  {
   "cell_type": "code",
   "execution_count": 17,
   "id": "0cb30ed9",
   "metadata": {
    "execution": {
     "iopub.execute_input": "2023-04-17T13:36:13.170709Z",
     "iopub.status.busy": "2023-04-17T13:36:13.170283Z",
     "iopub.status.idle": "2023-04-17T13:36:13.235221Z",
     "shell.execute_reply": "2023-04-17T13:36:13.233954Z"
    },
    "papermill": {
     "duration": 0.092392,
     "end_time": "2023-04-17T13:36:13.238334",
     "exception": false,
     "start_time": "2023-04-17T13:36:13.145942",
     "status": "completed"
    },
    "tags": []
   },
   "outputs": [
    {
     "data": {
      "text/html": [
       "<div>\n",
       "<style scoped>\n",
       "    .dataframe tbody tr th:only-of-type {\n",
       "        vertical-align: middle;\n",
       "    }\n",
       "\n",
       "    .dataframe tbody tr th {\n",
       "        vertical-align: top;\n",
       "    }\n",
       "\n",
       "    .dataframe thead th {\n",
       "        text-align: right;\n",
       "    }\n",
       "</style>\n",
       "<table border=\"1\" class=\"dataframe\">\n",
       "  <thead>\n",
       "    <tr style=\"text-align: right;\">\n",
       "      <th></th>\n",
       "      <th>Accepts Marketing</th>\n",
       "      <th>Total</th>\n",
       "      <th>Discount Amount</th>\n",
       "      <th>Outstanding Balance</th>\n",
       "      <th>Status</th>\n",
       "    </tr>\n",
       "  </thead>\n",
       "  <tbody>\n",
       "    <tr>\n",
       "      <th>count</th>\n",
       "      <td>21720.000000</td>\n",
       "      <td>2.172000e+04</td>\n",
       "      <td>2.172000e+04</td>\n",
       "      <td>2.172000e+04</td>\n",
       "      <td>149032.000000</td>\n",
       "    </tr>\n",
       "    <tr>\n",
       "      <th>mean</th>\n",
       "      <td>0.574908</td>\n",
       "      <td>3.022193e+04</td>\n",
       "      <td>2.619813e+03</td>\n",
       "      <td>2.161931e+04</td>\n",
       "      <td>0.174889</td>\n",
       "    </tr>\n",
       "    <tr>\n",
       "      <th>std</th>\n",
       "      <td>0.494368</td>\n",
       "      <td>2.543728e+05</td>\n",
       "      <td>1.218538e+04</td>\n",
       "      <td>2.752161e+05</td>\n",
       "      <td>0.379873</td>\n",
       "    </tr>\n",
       "    <tr>\n",
       "      <th>min</th>\n",
       "      <td>0.000000</td>\n",
       "      <td>0.000000e+00</td>\n",
       "      <td>0.000000e+00</td>\n",
       "      <td>-2.199000e+03</td>\n",
       "      <td>0.000000</td>\n",
       "    </tr>\n",
       "    <tr>\n",
       "      <th>25%</th>\n",
       "      <td>0.000000</td>\n",
       "      <td>1.349100e+03</td>\n",
       "      <td>0.000000e+00</td>\n",
       "      <td>0.000000e+00</td>\n",
       "      <td>0.000000</td>\n",
       "    </tr>\n",
       "    <tr>\n",
       "      <th>50%</th>\n",
       "      <td>1.000000</td>\n",
       "      <td>4.779550e+03</td>\n",
       "      <td>2.649500e+02</td>\n",
       "      <td>0.000000e+00</td>\n",
       "      <td>0.000000</td>\n",
       "    </tr>\n",
       "    <tr>\n",
       "      <th>75%</th>\n",
       "      <td>1.000000</td>\n",
       "      <td>1.301900e+04</td>\n",
       "      <td>2.233000e+03</td>\n",
       "      <td>2.298000e+03</td>\n",
       "      <td>0.000000</td>\n",
       "    </tr>\n",
       "    <tr>\n",
       "      <th>max</th>\n",
       "      <td>1.000000</td>\n",
       "      <td>2.249850e+07</td>\n",
       "      <td>1.328498e+06</td>\n",
       "      <td>2.498498e+07</td>\n",
       "      <td>1.000000</td>\n",
       "    </tr>\n",
       "  </tbody>\n",
       "</table>\n",
       "</div>"
      ],
      "text/plain": [
       "       Accepts Marketing         Total  Discount Amount  Outstanding Balance  \\\n",
       "count       21720.000000  2.172000e+04     2.172000e+04         2.172000e+04   \n",
       "mean            0.574908  3.022193e+04     2.619813e+03         2.161931e+04   \n",
       "std             0.494368  2.543728e+05     1.218538e+04         2.752161e+05   \n",
       "min             0.000000  0.000000e+00     0.000000e+00        -2.199000e+03   \n",
       "25%             0.000000  1.349100e+03     0.000000e+00         0.000000e+00   \n",
       "50%             1.000000  4.779550e+03     2.649500e+02         0.000000e+00   \n",
       "75%             1.000000  1.301900e+04     2.233000e+03         2.298000e+03   \n",
       "max             1.000000  2.249850e+07     1.328498e+06         2.498498e+07   \n",
       "\n",
       "              Status  \n",
       "count  149032.000000  \n",
       "mean        0.174889  \n",
       "std         0.379873  \n",
       "min         0.000000  \n",
       "25%         0.000000  \n",
       "50%         0.000000  \n",
       "75%         0.000000  \n",
       "max         1.000000  "
      ]
     },
     "execution_count": 17,
     "metadata": {},
     "output_type": "execute_result"
    }
   ],
   "source": [
    "df_drop.describe()"
   ]
  },
  {
   "cell_type": "code",
   "execution_count": 18,
   "id": "7c8bab6d",
   "metadata": {
    "execution": {
     "iopub.execute_input": "2023-04-17T13:36:13.287166Z",
     "iopub.status.busy": "2023-04-17T13:36:13.286464Z",
     "iopub.status.idle": "2023-04-17T13:36:13.291471Z",
     "shell.execute_reply": "2023-04-17T13:36:13.290186Z"
    },
    "papermill": {
     "duration": 0.032016,
     "end_time": "2023-04-17T13:36:13.293960",
     "exception": false,
     "start_time": "2023-04-17T13:36:13.261944",
     "status": "completed"
    },
    "tags": []
   },
   "outputs": [],
   "source": [
    "# dropping rows where the following columns are na\n",
    "\n",
    "# df_drop.dropna(subset=['Email', 'Leads_Source', 'Sales owner', 'Lead_State', 'Lead_city'], inplace=True)"
   ]
  },
  {
   "cell_type": "code",
   "execution_count": 19,
   "id": "e9643176",
   "metadata": {
    "execution": {
     "iopub.execute_input": "2023-04-17T13:36:13.343494Z",
     "iopub.status.busy": "2023-04-17T13:36:13.343075Z",
     "iopub.status.idle": "2023-04-17T13:36:13.429948Z",
     "shell.execute_reply": "2023-04-17T13:36:13.428170Z"
    },
    "papermill": {
     "duration": 0.114985,
     "end_time": "2023-04-17T13:36:13.432565",
     "exception": false,
     "start_time": "2023-04-17T13:36:13.317580",
     "status": "completed"
    },
    "tags": []
   },
   "outputs": [
    {
     "name": "stdout",
     "output_type": "stream",
     "text": [
      "<class 'pandas.core.frame.DataFrame'>\n",
      "RangeIndex: 149032 entries, 0 to 149031\n",
      "Data columns (total 16 columns):\n",
      " #   Column                Non-Null Count   Dtype  \n",
      "---  ------                --------------   -----  \n",
      " 0   Email                 144673 non-null  object \n",
      " 1   Leads_Source          149032 non-null  object \n",
      " 2   Sales owner           60435 non-null   object \n",
      " 3   Team                  60311 non-null   object \n",
      " 4   Pcrtoduct_interested  31642 non-null   object \n",
      " 5   Lead_State            99195 non-null   object \n",
      " 6   Lead_city             100793 non-null  object \n",
      " 7   page-url              15394 non-null   object \n",
      " 8   Lead_hour             149032 non-null  object \n",
      " 9   Accepts Marketing     21720 non-null   float64\n",
      " 10  Total                 21720 non-null   float64\n",
      " 11  Discount Amount       21720 non-null   float64\n",
      " 12  Vendor                26057 non-null   object \n",
      " 13  Outstanding Balance   21720 non-null   float64\n",
      " 14  Source                21720 non-null   object \n",
      " 15  Status                149032 non-null  int64  \n",
      "dtypes: float64(4), int64(1), object(11)\n",
      "memory usage: 18.2+ MB\n"
     ]
    }
   ],
   "source": [
    "df_drop.info()"
   ]
  },
  {
   "cell_type": "code",
   "execution_count": 20,
   "id": "2e6f7b85",
   "metadata": {
    "execution": {
     "iopub.execute_input": "2023-04-17T13:36:13.481422Z",
     "iopub.status.busy": "2023-04-17T13:36:13.480986Z",
     "iopub.status.idle": "2023-04-17T13:36:13.563832Z",
     "shell.execute_reply": "2023-04-17T13:36:13.562878Z"
    },
    "papermill": {
     "duration": 0.110266,
     "end_time": "2023-04-17T13:36:13.566368",
     "exception": false,
     "start_time": "2023-04-17T13:36:13.456102",
     "status": "completed"
    },
    "tags": []
   },
   "outputs": [],
   "source": [
    "# Dropping rows wih NaN\n",
    "df_final = df_drop.dropna()"
   ]
  },
  {
   "cell_type": "code",
   "execution_count": 21,
   "id": "02531c3f",
   "metadata": {
    "execution": {
     "iopub.execute_input": "2023-04-17T13:36:13.617463Z",
     "iopub.status.busy": "2023-04-17T13:36:13.616472Z",
     "iopub.status.idle": "2023-04-17T13:36:13.630248Z",
     "shell.execute_reply": "2023-04-17T13:36:13.628756Z"
    },
    "papermill": {
     "duration": 0.041958,
     "end_time": "2023-04-17T13:36:13.632804",
     "exception": false,
     "start_time": "2023-04-17T13:36:13.590846",
     "status": "completed"
    },
    "tags": []
   },
   "outputs": [
    {
     "name": "stdout",
     "output_type": "stream",
     "text": [
      "<class 'pandas.core.frame.DataFrame'>\n",
      "Int64Index: 394 entries, 586 to 147693\n",
      "Data columns (total 16 columns):\n",
      " #   Column                Non-Null Count  Dtype  \n",
      "---  ------                --------------  -----  \n",
      " 0   Email                 394 non-null    object \n",
      " 1   Leads_Source          394 non-null    object \n",
      " 2   Sales owner           394 non-null    object \n",
      " 3   Team                  394 non-null    object \n",
      " 4   Pcrtoduct_interested  394 non-null    object \n",
      " 5   Lead_State            394 non-null    object \n",
      " 6   Lead_city             394 non-null    object \n",
      " 7   page-url              394 non-null    object \n",
      " 8   Lead_hour             394 non-null    object \n",
      " 9   Accepts Marketing     394 non-null    float64\n",
      " 10  Total                 394 non-null    float64\n",
      " 11  Discount Amount       394 non-null    float64\n",
      " 12  Vendor                394 non-null    object \n",
      " 13  Outstanding Balance   394 non-null    float64\n",
      " 14  Source                394 non-null    object \n",
      " 15  Status                394 non-null    int64  \n",
      "dtypes: float64(4), int64(1), object(11)\n",
      "memory usage: 52.3+ KB\n"
     ]
    }
   ],
   "source": [
    "df_final.info()"
   ]
  },
  {
   "cell_type": "code",
   "execution_count": 22,
   "id": "7ff8dec7",
   "metadata": {
    "execution": {
     "iopub.execute_input": "2023-04-17T13:36:13.682695Z",
     "iopub.status.busy": "2023-04-17T13:36:13.681815Z",
     "iopub.status.idle": "2023-04-17T13:36:13.703967Z",
     "shell.execute_reply": "2023-04-17T13:36:13.702817Z"
    },
    "papermill": {
     "duration": 0.049977,
     "end_time": "2023-04-17T13:36:13.706533",
     "exception": false,
     "start_time": "2023-04-17T13:36:13.656556",
     "status": "completed"
    },
    "tags": []
   },
   "outputs": [
    {
     "data": {
      "text/html": [
       "<div>\n",
       "<style scoped>\n",
       "    .dataframe tbody tr th:only-of-type {\n",
       "        vertical-align: middle;\n",
       "    }\n",
       "\n",
       "    .dataframe tbody tr th {\n",
       "        vertical-align: top;\n",
       "    }\n",
       "\n",
       "    .dataframe thead th {\n",
       "        text-align: right;\n",
       "    }\n",
       "</style>\n",
       "<table border=\"1\" class=\"dataframe\">\n",
       "  <thead>\n",
       "    <tr style=\"text-align: right;\">\n",
       "      <th></th>\n",
       "      <th>Email</th>\n",
       "      <th>Leads_Source</th>\n",
       "      <th>Sales owner</th>\n",
       "      <th>Team</th>\n",
       "      <th>Pcrtoduct_interested</th>\n",
       "      <th>Lead_State</th>\n",
       "      <th>Lead_city</th>\n",
       "      <th>page-url</th>\n",
       "      <th>Lead_hour</th>\n",
       "      <th>Accepts Marketing</th>\n",
       "      <th>Total</th>\n",
       "      <th>Discount Amount</th>\n",
       "      <th>Vendor</th>\n",
       "      <th>Outstanding Balance</th>\n",
       "      <th>Source</th>\n",
       "      <th>Status</th>\n",
       "    </tr>\n",
       "  </thead>\n",
       "  <tbody>\n",
       "    <tr>\n",
       "      <th>586</th>\n",
       "      <td>venkatramct74895@mail.ru</td>\n",
       "      <td>Shopify</td>\n",
       "      <td>Mrinmoy Mahara</td>\n",
       "      <td>J&amp;j_crto_AC_Sales_Team</td>\n",
       "      <td>Buy Water Purifier</td>\n",
       "      <td>Karnataka</td>\n",
       "      <td>Bengaluru</td>\n",
       "      <td>https://J&amp;j.com/pcrtoducts/glitz-water-purifie...</td>\n",
       "      <td>44978.77729</td>\n",
       "      <td>1.0</td>\n",
       "      <td>73498.0</td>\n",
       "      <td>690.0</td>\n",
       "      <td>J&amp;J</td>\n",
       "      <td>0.0</td>\n",
       "      <td>2328723457</td>\n",
       "      <td>1</td>\n",
       "    </tr>\n",
       "    <tr>\n",
       "      <th>605</th>\n",
       "      <td>mukeshkumar2519774895@mail.ru</td>\n",
       "      <td>Shopify</td>\n",
       "      <td>Abdul Sattar</td>\n",
       "      <td>LSH Sales Team</td>\n",
       "      <td>Buy M.A.T.T.,M.A.T.T.</td>\n",
       "      <td>Delhi</td>\n",
       "      <td>Delhi</td>\n",
       "      <td>https://J&amp;j.com/collections/home-living</td>\n",
       "      <td>44739.89674</td>\n",
       "      <td>1.0</td>\n",
       "      <td>1798.0</td>\n",
       "      <td>0.0</td>\n",
       "      <td>J&amp;J Leaping</td>\n",
       "      <td>0.0</td>\n",
       "      <td>web</td>\n",
       "      <td>1</td>\n",
       "    </tr>\n",
       "    <tr>\n",
       "      <th>1736</th>\n",
       "      <td>srineeth104895@mail.ru</td>\n",
       "      <td>Shopify</td>\n",
       "      <td>Kunal Khera</td>\n",
       "      <td>J&amp;j_crto_AC_Sales_Team</td>\n",
       "      <td>Buy Water Purifier</td>\n",
       "      <td>Andhra Pradesh</td>\n",
       "      <td>SRIKAKULAM</td>\n",
       "      <td>https://J&amp;j.com/pcrtoducts/bolt-crto?utm_mediu...</td>\n",
       "      <td>44974.89535</td>\n",
       "      <td>1.0</td>\n",
       "      <td>141498.0</td>\n",
       "      <td>890.0</td>\n",
       "      <td>J&amp;J</td>\n",
       "      <td>0.0</td>\n",
       "      <td>shopify_draft_order</td>\n",
       "      <td>1</td>\n",
       "    </tr>\n",
       "    <tr>\n",
       "      <th>1886</th>\n",
       "      <td>lavanyamp143amma4895@mail.ru</td>\n",
       "      <td>Shopify</td>\n",
       "      <td>Ashwin Nair</td>\n",
       "      <td>LSH_YOLO Team</td>\n",
       "      <td>M.A.T.T.</td>\n",
       "      <td>Karnataka</td>\n",
       "      <td>Tumkur</td>\n",
       "      <td>https://www.J&amp;jLeaping.com/pcrtoducts/all-weat...</td>\n",
       "      <td>44652.95924</td>\n",
       "      <td>0.0</td>\n",
       "      <td>14308.1</td>\n",
       "      <td>1489.9</td>\n",
       "      <td>J&amp;J</td>\n",
       "      <td>13808.1</td>\n",
       "      <td>pos</td>\n",
       "      <td>1</td>\n",
       "    </tr>\n",
       "    <tr>\n",
       "      <th>2155</th>\n",
       "      <td>mathewsta@hotmail.com</td>\n",
       "      <td>Shopify</td>\n",
       "      <td>Ashwin Nair</td>\n",
       "      <td>LSH_YOLO Team</td>\n",
       "      <td>M.A.T.T.,Buy M.A.T.T.</td>\n",
       "      <td>Punjab</td>\n",
       "      <td>LUDHIANA</td>\n",
       "      <td>https://J&amp;j.com/pages/J&amp;j-brand-offers-1</td>\n",
       "      <td>44739.72799</td>\n",
       "      <td>1.0</td>\n",
       "      <td>1423.1</td>\n",
       "      <td>74.9</td>\n",
       "      <td>J&amp;J Leaping</td>\n",
       "      <td>1423.1</td>\n",
       "      <td>shopify_draft_order</td>\n",
       "      <td>1</td>\n",
       "    </tr>\n",
       "  </tbody>\n",
       "</table>\n",
       "</div>"
      ],
      "text/plain": [
       "                              Email Leads_Source     Sales owner  \\\n",
       "586        venkatramct74895@mail.ru      Shopify  Mrinmoy Mahara   \n",
       "605   mukeshkumar2519774895@mail.ru      Shopify    Abdul Sattar   \n",
       "1736         srineeth104895@mail.ru      Shopify     Kunal Khera   \n",
       "1886   lavanyamp143amma4895@mail.ru      Shopify     Ashwin Nair   \n",
       "2155          mathewsta@hotmail.com      Shopify     Ashwin Nair   \n",
       "\n",
       "                        Team   Pcrtoduct_interested      Lead_State  \\\n",
       "586   J&j_crto_AC_Sales_Team     Buy Water Purifier       Karnataka   \n",
       "605           LSH Sales Team  Buy M.A.T.T.,M.A.T.T.           Delhi   \n",
       "1736  J&j_crto_AC_Sales_Team     Buy Water Purifier  Andhra Pradesh   \n",
       "1886           LSH_YOLO Team               M.A.T.T.       Karnataka   \n",
       "2155           LSH_YOLO Team  M.A.T.T.,Buy M.A.T.T.          Punjab   \n",
       "\n",
       "       Lead_city                                           page-url  \\\n",
       "586    Bengaluru  https://J&j.com/pcrtoducts/glitz-water-purifie...   \n",
       "605        Delhi            https://J&j.com/collections/home-living   \n",
       "1736  SRIKAKULAM  https://J&j.com/pcrtoducts/bolt-crto?utm_mediu...   \n",
       "1886      Tumkur  https://www.J&jLeaping.com/pcrtoducts/all-weat...   \n",
       "2155    LUDHIANA           https://J&j.com/pages/J&j-brand-offers-1   \n",
       "\n",
       "        Lead_hour  Accepts Marketing     Total  Discount Amount       Vendor  \\\n",
       "586   44978.77729                1.0   73498.0            690.0          J&J   \n",
       "605   44739.89674                1.0    1798.0              0.0  J&J Leaping   \n",
       "1736  44974.89535                1.0  141498.0            890.0          J&J   \n",
       "1886  44652.95924                0.0   14308.1           1489.9          J&J   \n",
       "2155  44739.72799                1.0    1423.1             74.9  J&J Leaping   \n",
       "\n",
       "      Outstanding Balance               Source  Status  \n",
       "586                   0.0           2328723457       1  \n",
       "605                   0.0                  web       1  \n",
       "1736                  0.0  shopify_draft_order       1  \n",
       "1886              13808.1                  pos       1  \n",
       "2155               1423.1  shopify_draft_order       1  "
      ]
     },
     "execution_count": 22,
     "metadata": {},
     "output_type": "execute_result"
    }
   ],
   "source": [
    "df_final.head()"
   ]
  },
  {
   "cell_type": "markdown",
   "id": "f3fb1aea",
   "metadata": {
    "papermill": {
     "duration": 0.023786,
     "end_time": "2023-04-17T13:36:13.754621",
     "exception": false,
     "start_time": "2023-04-17T13:36:13.730835",
     "status": "completed"
    },
    "tags": []
   },
   "source": [
    "# SOME EDA"
   ]
  },
  {
   "cell_type": "code",
   "execution_count": 23,
   "id": "539548ae",
   "metadata": {
    "execution": {
     "iopub.execute_input": "2023-04-17T13:36:13.810086Z",
     "iopub.status.busy": "2023-04-17T13:36:13.809265Z",
     "iopub.status.idle": "2023-04-17T13:36:14.172884Z",
     "shell.execute_reply": "2023-04-17T13:36:14.171509Z"
    },
    "papermill": {
     "duration": 0.397144,
     "end_time": "2023-04-17T13:36:14.175983",
     "exception": false,
     "start_time": "2023-04-17T13:36:13.778839",
     "status": "completed"
    },
    "tags": []
   },
   "outputs": [
    {
     "name": "stdout",
     "output_type": "stream",
     "text": [
      "                     Accepts Marketing     Total  Discount Amount  \\\n",
      "Accepts Marketing             1.000000 -0.067020        -0.090857   \n",
      "Total                        -0.067020  1.000000         0.129140   \n",
      "Discount Amount              -0.090857  0.129140         1.000000   \n",
      "Outstanding Balance          -0.067980  0.452117         0.050784   \n",
      "Status                             NaN       NaN              NaN   \n",
      "\n",
      "                     Outstanding Balance  Status  \n",
      "Accepts Marketing              -0.067980     NaN  \n",
      "Total                           0.452117     NaN  \n",
      "Discount Amount                 0.050784     NaN  \n",
      "Outstanding Balance             1.000000     NaN  \n",
      "Status                               NaN     1.0  \n"
     ]
    },
    {
     "data": {
      "image/png": "[encoded data removed]",
      "text/plain": [
       "<Figure size 640x480 with 2 Axes>"
      ]
     },
     "metadata": {},
     "output_type": "display_data"
    }
   ],
   "source": [
    "corr = df_drop.corr()\n",
    "print(corr)\n",
    "\n",
    "# Create the heatmap\n",
    "sns.heatmap(corr, cmap='coolwarm', center=0)\n",
    "\n",
    "# Add title and axis labels\n",
    "plt.title('Correlation Matrix Heatmap')\n",
    "plt.xlabel('Column Names')\n",
    "plt.ylabel('Column Names')\n",
    "\n",
    "# Display the plot\n",
    "plt.show()"
   ]
  },
  {
   "cell_type": "code",
   "execution_count": 24,
   "id": "e4508a3a",
   "metadata": {
    "execution": {
     "iopub.execute_input": "2023-04-17T13:36:14.228231Z",
     "iopub.status.busy": "2023-04-17T13:36:14.227813Z",
     "iopub.status.idle": "2023-04-17T13:36:14.269041Z",
     "shell.execute_reply": "2023-04-17T13:36:14.267766Z"
    },
    "papermill": {
     "duration": 0.070234,
     "end_time": "2023-04-17T13:36:14.271447",
     "exception": false,
     "start_time": "2023-04-17T13:36:14.201213",
     "status": "completed"
    },
    "tags": []
   },
   "outputs": [
    {
     "name": "stdout",
     "output_type": "stream",
     "text": [
      "Numerical features: ['Accepts Marketing', 'Total', 'Discount Amount', 'Outstanding Balance', 'Status']\n",
      "Categorical features: ['Email', 'Leads_Source', 'Sales owner', 'Team', 'Pcrtoduct_interested', 'Lead_State', 'Lead_city', 'page-url', 'Lead_hour', 'Vendor', 'Source']\n"
     ]
    }
   ],
   "source": [
    "# Separating numerical and categorical features\n",
    "df_num = df_drop.select_dtypes(include=['float64', 'int64']).columns.tolist()\n",
    "df_cat = df_drop.select_dtypes(include=['object']).columns.tolist()\n",
    "\n",
    "# Printing the list of numerical and categorical features\n",
    "print('Numerical features:', df_num)\n",
    "print('Categorical features:', df_cat)"
   ]
  },
  {
   "cell_type": "code",
   "execution_count": 25,
   "id": "0713ce61",
   "metadata": {
    "execution": {
     "iopub.execute_input": "2023-04-17T13:36:14.324121Z",
     "iopub.status.busy": "2023-04-17T13:36:14.322813Z",
     "iopub.status.idle": "2023-04-17T13:36:15.516938Z",
     "shell.execute_reply": "2023-04-17T13:36:15.515674Z"
    },
    "papermill": {
     "duration": 1.22335,
     "end_time": "2023-04-17T13:36:15.519912",
     "exception": false,
     "start_time": "2023-04-17T13:36:14.296562",
     "status": "completed"
    },
    "tags": []
   },
   "outputs": [
    {
     "data": {
      "image/png": "[encoded data removed]",
      "text/plain": [
       "<Figure size 640x480 with 1 Axes>"
      ]
     },
     "metadata": {},
     "output_type": "display_data"
    },
    {
     "data": {
      "image/png": "[encoded data removed]",
      "text/plain": [
       "<Figure size 640x480 with 1 Axes>"
      ]
     },
     "metadata": {},
     "output_type": "display_data"
    },
    {
     "data": {
      "image/png": "[encoded data removed]",
      "text/plain": [
       "<Figure size 640x480 with 1 Axes>"
      ]
     },
     "metadata": {},
     "output_type": "display_data"
    },
    {
     "data": {
      "image/png": "[encoded data removed]",
      "text/plain": [
       "<Figure size 640x480 with 1 Axes>"
      ]
     },
     "metadata": {},
     "output_type": "display_data"
    },
    {
     "data": {
      "image/png": "[encoded data removed]",
      "text/plain": [
       "<Figure size 640x480 with 1 Axes>"
      ]
     },
     "metadata": {},
     "output_type": "display_data"
    }
   ],
   "source": [
    "for col in df_num:\n",
    "    plt.hist(df_drop[col], bins=20)\n",
    "    plt.title(col)\n",
    "    plt.xlabel('Value')\n",
    "    plt.ylabel('Frequency')\n",
    "    plt.show()"
   ]
  },
  {
   "cell_type": "code",
   "execution_count": 26,
   "id": "ed06f838",
   "metadata": {
    "execution": {
     "iopub.execute_input": "2023-04-17T13:36:15.575012Z",
     "iopub.status.busy": "2023-04-17T13:36:15.574570Z",
     "iopub.status.idle": "2023-04-17T13:36:15.895377Z",
     "shell.execute_reply": "2023-04-17T13:36:15.894091Z"
    },
    "papermill": {
     "duration": 0.351768,
     "end_time": "2023-04-17T13:36:15.898333",
     "exception": false,
     "start_time": "2023-04-17T13:36:15.546565",
     "status": "completed"
    },
    "tags": []
   },
   "outputs": [
    {
     "name": "stdout",
     "output_type": "stream",
     "text": [
      "                     Accepts Marketing     Total  Discount Amount  \\\n",
      "Accepts Marketing             1.000000 -0.027982        -0.117510   \n",
      "Total                        -0.027982  1.000000         0.043223   \n",
      "Discount Amount              -0.117510  0.043223         1.000000   \n",
      "Outstanding Balance          -0.094992  0.207968         0.024670   \n",
      "Status                             NaN       NaN              NaN   \n",
      "\n",
      "                     Outstanding Balance  Status  \n",
      "Accepts Marketing              -0.094992     NaN  \n",
      "Total                           0.207968     NaN  \n",
      "Discount Amount                 0.024670     NaN  \n",
      "Outstanding Balance             1.000000     NaN  \n",
      "Status                               NaN     NaN  \n"
     ]
    },
    {
     "data": {
      "image/png": "[encoded data removed]",
      "text/plain": [
       "<Figure size 640x480 with 2 Axes>"
      ]
     },
     "metadata": {},
     "output_type": "display_data"
    }
   ],
   "source": [
    "corr = df_final.corr()\n",
    "print(corr)\n",
    "\n",
    "# Create the heatmap\n",
    "sns.heatmap(corr, cmap='coolwarm', center=0)\n",
    "\n",
    "# Add title and axis labels\n",
    "plt.title('Correlation Matrix Heatmap')\n",
    "plt.xlabel('Column Names')\n",
    "plt.ylabel('Column Names')\n",
    "\n",
    "# Display the plot\n",
    "plt.show()"
   ]
  },
  {
   "cell_type": "code",
   "execution_count": 27,
   "id": "ceb33f2e",
   "metadata": {
    "execution": {
     "iopub.execute_input": "2023-04-17T13:36:15.956568Z",
     "iopub.status.busy": "2023-04-17T13:36:15.955752Z",
     "iopub.status.idle": "2023-04-17T13:36:15.992523Z",
     "shell.execute_reply": "2023-04-17T13:36:15.991088Z"
    },
    "papermill": {
     "duration": 0.06923,
     "end_time": "2023-04-17T13:36:15.995257",
     "exception": false,
     "start_time": "2023-04-17T13:36:15.926027",
     "status": "completed"
    },
    "tags": []
   },
   "outputs": [
    {
     "name": "stdout",
     "output_type": "stream",
     "text": [
      "Numerical features: ['Accepts Marketing', 'Total', 'Discount Amount', 'Outstanding Balance', 'Status']\n",
      "Categorical features: ['Email', 'Leads_Source', 'Sales owner', 'Team', 'Pcrtoduct_interested', 'Lead_State', 'Lead_city', 'page-url', 'Lead_hour', 'Vendor', 'Source']\n"
     ]
    }
   ],
   "source": [
    "# Separating numerical and categorical features\n",
    "df_num_final = df_drop.select_dtypes(include=['float64', 'int64']).columns.tolist()\n",
    "df_cat_final = df_drop.select_dtypes(include=['object']).columns.tolist()\n",
    "\n",
    "# Printing the list of numerical and categorical features\n",
    "print('Numerical features:', df_num_final)\n",
    "print('Categorical features:', df_cat_final)"
   ]
  },
  {
   "cell_type": "code",
   "execution_count": 28,
   "id": "98d9588d",
   "metadata": {
    "execution": {
     "iopub.execute_input": "2023-04-17T13:36:16.053669Z",
     "iopub.status.busy": "2023-04-17T13:36:16.053271Z",
     "iopub.status.idle": "2023-04-17T13:36:16.956396Z",
     "shell.execute_reply": "2023-04-17T13:36:16.955201Z"
    },
    "papermill": {
     "duration": 0.935425,
     "end_time": "2023-04-17T13:36:16.959274",
     "exception": false,
     "start_time": "2023-04-17T13:36:16.023849",
     "status": "completed"
    },
    "tags": []
   },
   "outputs": [
    {
     "data": {
      "image/png": "[encoded data removed]",
      "text/plain": [
       "<Figure size 640x480 with 1 Axes>"
      ]
     },
     "metadata": {},
     "output_type": "display_data"
    },
    {
     "data": {
      "image/png": "[encoded data removed]",
      "text/plain": [
       "<Figure size 640x480 with 1 Axes>"
      ]
     },
     "metadata": {},
     "output_type": "display_data"
    },
    {
     "data": {
      "image/png": "[encoded data removed]",
      "text/plain": [
       "<Figure size 640x480 with 1 Axes>"
      ]
     },
     "metadata": {},
     "output_type": "display_data"
    },
    {
     "data": {
      "image/png": "[encoded data removed]",
      "text/plain": [
       "<Figure size 640x480 with 1 Axes>"
      ]
     },
     "metadata": {},
     "output_type": "display_data"
    },
    {
     "data": {
      "image/png": "[encoded data removed]",
      "text/plain": [
       "<Figure size 640x480 with 1 Axes>"
      ]
     },
     "metadata": {},
     "output_type": "display_data"
    }
   ],
   "source": [
    "for col in df_num_final:\n",
    "    plt.hist(df_final[col], bins=20)\n",
    "    plt.title(col)\n",
    "    plt.xlabel('Value')\n",
    "    plt.ylabel('Frequency')\n",
    "    plt.show()"
   ]
  },
  {
   "cell_type": "markdown",
   "id": "886128c2",
   "metadata": {
    "papermill": {
     "duration": 0.028744,
     "end_time": "2023-04-17T13:36:17.017591",
     "exception": false,
     "start_time": "2023-04-17T13:36:16.988847",
     "status": "completed"
    },
    "tags": []
   },
   "source": [
    "# FEATURE ENGINEERING"
   ]
  },
  {
   "cell_type": "code",
   "execution_count": 29,
   "id": "51740c44",
   "metadata": {
    "execution": {
     "iopub.execute_input": "2023-04-17T13:36:17.078560Z",
     "iopub.status.busy": "2023-04-17T13:36:17.078106Z",
     "iopub.status.idle": "2023-04-17T13:36:17.168721Z",
     "shell.execute_reply": "2023-04-17T13:36:17.167028Z"
    },
    "papermill": {
     "duration": 0.125561,
     "end_time": "2023-04-17T13:36:17.172964",
     "exception": false,
     "start_time": "2023-04-17T13:36:17.047403",
     "status": "completed"
    },
    "tags": []
   },
   "outputs": [
    {
     "name": "stdout",
     "output_type": "stream",
     "text": [
      "<class 'pandas.core.frame.DataFrame'>\n",
      "RangeIndex: 149032 entries, 0 to 149031\n",
      "Data columns (total 16 columns):\n",
      " #   Column                Non-Null Count   Dtype  \n",
      "---  ------                --------------   -----  \n",
      " 0   Email                 144673 non-null  object \n",
      " 1   Leads_Source          149032 non-null  object \n",
      " 2   Sales owner           60435 non-null   object \n",
      " 3   Team                  60311 non-null   object \n",
      " 4   Pcrtoduct_interested  31642 non-null   object \n",
      " 5   Lead_State            99195 non-null   object \n",
      " 6   Lead_city             100793 non-null  object \n",
      " 7   page-url              15394 non-null   object \n",
      " 8   Lead_hour             149032 non-null  object \n",
      " 9   Accepts Marketing     21720 non-null   float64\n",
      " 10  Total                 21720 non-null   float64\n",
      " 11  Discount Amount       21720 non-null   float64\n",
      " 12  Vendor                26057 non-null   object \n",
      " 13  Outstanding Balance   21720 non-null   float64\n",
      " 14  Source                21720 non-null   object \n",
      " 15  Status                149032 non-null  int64  \n",
      "dtypes: float64(4), int64(1), object(11)\n",
      "memory usage: 18.2+ MB\n"
     ]
    }
   ],
   "source": [
    "df_drop.info()"
   ]
  },
  {
   "cell_type": "code",
   "execution_count": 30,
   "id": "5e2ae523",
   "metadata": {
    "execution": {
     "iopub.execute_input": "2023-04-17T13:36:17.251421Z",
     "iopub.status.busy": "2023-04-17T13:36:17.250687Z",
     "iopub.status.idle": "2023-04-17T13:36:17.334478Z",
     "shell.execute_reply": "2023-04-17T13:36:17.333160Z"
    },
    "papermill": {
     "duration": 0.126539,
     "end_time": "2023-04-17T13:36:17.337309",
     "exception": false,
     "start_time": "2023-04-17T13:36:17.210770",
     "status": "completed"
    },
    "tags": []
   },
   "outputs": [
    {
     "data": {
      "text/plain": [
       "Email                     4359\n",
       "Leads_Source                 0\n",
       "Sales owner              88597\n",
       "Team                     88721\n",
       "Pcrtoduct_interested    117390\n",
       "Lead_State               49837\n",
       "Lead_city                48239\n",
       "page-url                133638\n",
       "Lead_hour                    0\n",
       "Accepts Marketing       127312\n",
       "Total                   127312\n",
       "Discount Amount         127312\n",
       "Vendor                  122975\n",
       "Outstanding Balance     127312\n",
       "Source                  127312\n",
       "Status                       0\n",
       "dtype: int64"
      ]
     },
     "execution_count": 30,
     "metadata": {},
     "output_type": "execute_result"
    }
   ],
   "source": [
    "df_drop.isnull().sum()\n"
   ]
  },
  {
   "cell_type": "code",
   "execution_count": 31,
   "id": "b5a43b38",
   "metadata": {
    "execution": {
     "iopub.execute_input": "2023-04-17T13:36:17.398297Z",
     "iopub.status.busy": "2023-04-17T13:36:17.397810Z",
     "iopub.status.idle": "2023-04-17T13:36:17.567663Z",
     "shell.execute_reply": "2023-04-17T13:36:17.566489Z"
    },
    "papermill": {
     "duration": 0.20362,
     "end_time": "2023-04-17T13:36:17.570458",
     "exception": false,
     "start_time": "2023-04-17T13:36:17.366838",
     "status": "completed"
    },
    "tags": []
   },
   "outputs": [
    {
     "name": "stdout",
     "output_type": "stream",
     "text": [
      "Email\n",
      "137321\n",
      "Leads_Source\n",
      "17\n",
      "Sales owner\n",
      "54\n",
      "Team\n",
      "3\n",
      "Pcrtoduct_interested\n",
      "99\n",
      "Lead_State\n",
      "173\n",
      "Lead_city\n",
      "7652\n",
      "page-url\n",
      "6413\n",
      "Lead_hour\n",
      "102490\n",
      "Accepts Marketing\n",
      "2\n",
      "Total\n",
      "4204\n",
      "Discount Amount\n",
      "3385\n",
      "Vendor\n",
      "2\n",
      "Outstanding Balance\n",
      "2636\n",
      "Source\n",
      "11\n",
      "Status\n",
      "2\n"
     ]
    }
   ],
   "source": [
    "for col in df_drop.columns:\n",
    "    print(col)\n",
    "    print(df_drop[col].nunique())"
   ]
  },
  {
   "cell_type": "code",
   "execution_count": 32,
   "id": "feac12eb",
   "metadata": {
    "execution": {
     "iopub.execute_input": "2023-04-17T13:36:17.633283Z",
     "iopub.status.busy": "2023-04-17T13:36:17.632802Z",
     "iopub.status.idle": "2023-04-17T13:36:17.657566Z",
     "shell.execute_reply": "2023-04-17T13:36:17.656492Z"
    },
    "papermill": {
     "duration": 0.059042,
     "end_time": "2023-04-17T13:36:17.660264",
     "exception": false,
     "start_time": "2023-04-17T13:36:17.601222",
     "status": "completed"
    },
    "tags": []
   },
   "outputs": [],
   "source": [
    "df_drop_copy = df_drop.copy()"
   ]
  },
  {
   "cell_type": "code",
   "execution_count": 33,
   "id": "afa92760",
   "metadata": {
    "execution": {
     "iopub.execute_input": "2023-04-17T13:36:17.722324Z",
     "iopub.status.busy": "2023-04-17T13:36:17.721659Z",
     "iopub.status.idle": "2023-04-17T13:36:18.126001Z",
     "shell.execute_reply": "2023-04-17T13:36:18.124913Z"
    },
    "papermill": {
     "duration": 0.438249,
     "end_time": "2023-04-17T13:36:18.128829",
     "exception": false,
     "start_time": "2023-04-17T13:36:17.690580",
     "status": "completed"
    },
    "tags": []
   },
   "outputs": [],
   "source": [
    "# Fill in missing values for Team, Product_interested, and page-url\n",
    "df_drop_copy['Team'].fillna(df_drop['Team'].mode()[0], inplace=True)\n",
    "df_drop_copy['Pcrtoduct_interested'].fillna('Unknown', inplace=True)\n",
    "df_drop_copy['page-url'].fillna('Unknown', inplace=True)\n",
    "\n",
    "\n",
    "\n",
    "\n",
    "# Replace missing values in the 'Accepts Marketing' column with the mode\n",
    "df_drop_copy['Accepts Marketing'].fillna(df_drop_copy['Accepts Marketing'].mode()[0], inplace=True)\n",
    "\n",
    "# Replace missing values in the 'Total' column with the mean\n",
    "df_drop_copy['Total'].fillna(df_drop_copy['Total'].mean(), inplace=True)\n",
    "\n",
    "# Replace missing values in the 'Discount Amount' column with the mean\n",
    "df_drop_copy['Discount Amount'].fillna(df_drop_copy['Discount Amount'].mean(), inplace=True)\n",
    "\n",
    "# Replace missing values in the 'Outstanding Balance' column with the mean\n",
    "df_drop_copy['Outstanding Balance'].fillna(df_drop_copy['Outstanding Balance'].mean(), inplace=True)\n",
    "\n",
    "# Replace missing values in the 'Vendor' column with the mode\n",
    "df_drop_copy['Vendor'].fillna(df_drop_copy['Vendor'].mode()[0], inplace=True)\n",
    "\n",
    "df_drop_copy['Source'].fillna(df_drop_copy['Source'].mode()[0], inplace=True)\n",
    "\n",
    "# handling 'Email', 'Leads_Source', 'Sales owner', 'Lead_State', 'Lead_city'\n",
    "df_drop_copy['Email'].fillna(df['Email'].mode()[0], inplace=True)\n",
    "df_drop_copy['Leads_Source'].fillna(df['Leads_Source'].mode()[0], inplace=True)\n",
    "df_drop_copy['Sales owner'].fillna(df['Sales owner'].mode()[0], inplace=True)\n",
    "df_drop_copy['Lead_State'].fillna(df['Lead_State'].mode()[0], inplace=True)\n",
    "df_drop_copy['Lead_city'].fillna(df['Lead_city'].mode()[0], inplace=True)\n",
    "\n",
    "\n",
    "\n"
   ]
  },
  {
   "cell_type": "code",
   "execution_count": 34,
   "id": "f3f2db55",
   "metadata": {
    "execution": {
     "iopub.execute_input": "2023-04-17T13:36:18.195553Z",
     "iopub.status.busy": "2023-04-17T13:36:18.194749Z",
     "iopub.status.idle": "2023-04-17T13:36:18.287875Z",
     "shell.execute_reply": "2023-04-17T13:36:18.286434Z"
    },
    "papermill": {
     "duration": 0.131411,
     "end_time": "2023-04-17T13:36:18.290623",
     "exception": false,
     "start_time": "2023-04-17T13:36:18.159212",
     "status": "completed"
    },
    "tags": []
   },
   "outputs": [
    {
     "name": "stdout",
     "output_type": "stream",
     "text": [
      "<class 'pandas.core.frame.DataFrame'>\n",
      "RangeIndex: 149032 entries, 0 to 149031\n",
      "Data columns (total 16 columns):\n",
      " #   Column                Non-Null Count   Dtype  \n",
      "---  ------                --------------   -----  \n",
      " 0   Email                 149032 non-null  object \n",
      " 1   Leads_Source          149032 non-null  object \n",
      " 2   Sales owner           149032 non-null  object \n",
      " 3   Team                  149032 non-null  object \n",
      " 4   Pcrtoduct_interested  149032 non-null  object \n",
      " 5   Lead_State            149032 non-null  object \n",
      " 6   Lead_city             149032 non-null  object \n",
      " 7   page-url              149032 non-null  object \n",
      " 8   Lead_hour             149032 non-null  object \n",
      " 9   Accepts Marketing     149032 non-null  float64\n",
      " 10  Total                 149032 non-null  float64\n",
      " 11  Discount Amount       149032 non-null  float64\n",
      " 12  Vendor                149032 non-null  object \n",
      " 13  Outstanding Balance   149032 non-null  float64\n",
      " 14  Source                149032 non-null  object \n",
      " 15  Status                149032 non-null  int64  \n",
      "dtypes: float64(4), int64(1), object(11)\n",
      "memory usage: 18.2+ MB\n"
     ]
    }
   ],
   "source": [
    "df_drop_copy.info()"
   ]
  },
  {
   "cell_type": "code",
   "execution_count": 35,
   "id": "5f688038",
   "metadata": {
    "execution": {
     "iopub.execute_input": "2023-04-17T13:36:18.352678Z",
     "iopub.status.busy": "2023-04-17T13:36:18.352263Z",
     "iopub.status.idle": "2023-04-17T13:36:18.446008Z",
     "shell.execute_reply": "2023-04-17T13:36:18.444854Z"
    },
    "papermill": {
     "duration": 0.128406,
     "end_time": "2023-04-17T13:36:18.448628",
     "exception": false,
     "start_time": "2023-04-17T13:36:18.320222",
     "status": "completed"
    },
    "tags": []
   },
   "outputs": [
    {
     "data": {
      "text/plain": [
       "Email                   0\n",
       "Leads_Source            0\n",
       "Sales owner             0\n",
       "Team                    0\n",
       "Pcrtoduct_interested    0\n",
       "Lead_State              0\n",
       "Lead_city               0\n",
       "page-url                0\n",
       "Lead_hour               0\n",
       "Accepts Marketing       0\n",
       "Total                   0\n",
       "Discount Amount         0\n",
       "Vendor                  0\n",
       "Outstanding Balance     0\n",
       "Source                  0\n",
       "Status                  0\n",
       "dtype: int64"
      ]
     },
     "execution_count": 35,
     "metadata": {},
     "output_type": "execute_result"
    }
   ],
   "source": [
    "df_drop_copy.isnull().sum()"
   ]
  },
  {
   "cell_type": "code",
   "execution_count": 36,
   "id": "22cf1ba5",
   "metadata": {
    "execution": {
     "iopub.execute_input": "2023-04-17T13:36:18.511414Z",
     "iopub.status.busy": "2023-04-17T13:36:18.510529Z",
     "iopub.status.idle": "2023-04-17T13:36:18.701839Z",
     "shell.execute_reply": "2023-04-17T13:36:18.700590Z"
    },
    "papermill": {
     "duration": 0.228493,
     "end_time": "2023-04-17T13:36:18.707153",
     "exception": false,
     "start_time": "2023-04-17T13:36:18.478660",
     "status": "completed"
    },
    "tags": []
   },
   "outputs": [
    {
     "data": {
      "image/png": "[encoded data removed]",
      "text/plain": [
       "<Figure size 640x480 with 1 Axes>"
      ]
     },
     "metadata": {},
     "output_type": "display_data"
    }
   ],
   "source": [
    "# Get the frequency count of each unique value in the 'Status' column\n",
    "status_counts = df_drop_copy['Status'].value_counts()\n",
    "\n",
    "# Plot the frequency distribution as a bar plot\n",
    "status_counts.plot(kind='bar')\n",
    "\n",
    "# Add axis labels and a title\n",
    "plt.xlabel('Status')\n",
    "plt.ylabel('Frequency')\n",
    "plt.title('Frequency Distribution of Status')\n",
    "\n",
    "# Show the plot\n",
    "plt.show()"
   ]
  },
  {
   "cell_type": "markdown",
   "id": "822fdd91",
   "metadata": {
    "papermill": {
     "duration": 0.030428,
     "end_time": "2023-04-17T13:36:18.769780",
     "exception": false,
     "start_time": "2023-04-17T13:36:18.739352",
     "status": "completed"
    },
    "tags": []
   },
   "source": [
    "# PERFORMING LABEL ENCODING\n"
   ]
  },
  {
   "cell_type": "code",
   "execution_count": 37,
   "id": "ac70b30c",
   "metadata": {
    "execution": {
     "iopub.execute_input": "2023-04-17T13:36:18.833077Z",
     "iopub.status.busy": "2023-04-17T13:36:18.832317Z",
     "iopub.status.idle": "2023-04-17T13:36:18.871692Z",
     "shell.execute_reply": "2023-04-17T13:36:18.870343Z"
    },
    "papermill": {
     "duration": 0.074491,
     "end_time": "2023-04-17T13:36:18.874263",
     "exception": false,
     "start_time": "2023-04-17T13:36:18.799772",
     "status": "completed"
    },
    "tags": []
   },
   "outputs": [
    {
     "name": "stdout",
     "output_type": "stream",
     "text": [
      "Numerical features: ['Accepts Marketing', 'Total', 'Discount Amount', 'Outstanding Balance', 'Status']\n",
      "Categorical features: ['Email', 'Leads_Source', 'Sales owner', 'Team', 'Pcrtoduct_interested', 'Lead_State', 'Lead_city', 'page-url', 'Lead_hour', 'Vendor', 'Source']\n"
     ]
    }
   ],
   "source": [
    "# Separating numerical and categorical features\n",
    "df_num = df_drop_copy.select_dtypes(include=['float64', 'int64']).columns.tolist()\n",
    "df_cat = df_drop_copy.select_dtypes(include=['object']).columns.tolist()\n",
    "\n",
    "# Categorical features: ['Email', 'Leads_Source', 'Sales owner', 'Team', 'Pcrtoduct_interested', 'Lead_State', 'Lead_city', 'page-url', 'Lead_hour', 'Vendor', 'Source']\n",
    "print('Numerical features:', df_num)\n",
    "print('Categorical features:', df_cat)"
   ]
  },
  {
   "cell_type": "code",
   "execution_count": 38,
   "id": "aa94a88f",
   "metadata": {
    "execution": {
     "iopub.execute_input": "2023-04-17T13:36:18.937125Z",
     "iopub.status.busy": "2023-04-17T13:36:18.936696Z",
     "iopub.status.idle": "2023-04-17T13:36:20.515983Z",
     "shell.execute_reply": "2023-04-17T13:36:20.515018Z"
    },
    "papermill": {
     "duration": 1.614578,
     "end_time": "2023-04-17T13:36:20.519124",
     "exception": false,
     "start_time": "2023-04-17T13:36:18.904546",
     "status": "completed"
    },
    "tags": []
   },
   "outputs": [
    {
     "name": "stdout",
     "output_type": "stream",
     "text": [
      "   Email  Leads_Source  Sales owner  Team  Pcrtoduct_interested  Lead_State  \\\n",
      "0  39276            16           15     2                    70          92   \n",
      "1  24521            16           15     2                    44         166   \n",
      "2  13955            16           15     2                    95         107   \n",
      "3  84886            14           15     2                    95         149   \n",
      "4  78096            16           15     2                    95          92   \n",
      "\n",
      "   Lead_city  page-url  Lead_hour  Accepts Marketing         Total  \\\n",
      "0       1009         0      87689                1.0  30221.925608   \n",
      "1       3630         0      81678                1.0  30221.925608   \n",
      "2       4767         0      52836                1.0  30221.925608   \n",
      "3       5878         0      69941                0.0  17235.000000   \n",
      "4       1009         0      60366                1.0  30221.925608   \n",
      "\n",
      "   Discount Amount  Vendor  Outstanding Balance  Source  Status  \n",
      "0      2619.813282       1         21619.313496      10       0  \n",
      "1      2619.813282       1         21619.313496      10       0  \n",
      "2      2619.813282       1         21619.313496      10       0  \n",
      "3      9139.000000       1             0.000000       9       1  \n",
      "4      2619.813282       1         21619.313496      10       0  \n"
     ]
    }
   ],
   "source": [
    "# specify the features to label encode\n",
    "features_to_encode = ['Email', 'Leads_Source', 'Sales owner', 'Team', 'Pcrtoduct_interested', 'Lead_State', 'Lead_city', 'page-url', 'Lead_hour', 'Vendor', 'Source']\n",
    "\n",
    "# # perform one-hot encoding on the specified features\n",
    "# df_encoded = pd.get_dummies(df_drop_copy, columns=features_to_encode)\n",
    "\n",
    "# # print the encoded dataframe\n",
    "# print(df_encoded.head())\n",
    "\n",
    "from sklearn.preprocessing import LabelEncoder\n",
    "\n",
    "# create an instance of the LabelEncoder class\n",
    "le = LabelEncoder()\n",
    "\n",
    "# perform label encoding on the specified features\n",
    "for feature in features_to_encode:\n",
    "    df_drop_copy[feature] = le.fit_transform(df_drop_copy[feature].astype(str))\n",
    "\n",
    "# print the encoded dataframe\n",
    "print(df_drop_copy.head())\n"
   ]
  },
  {
   "cell_type": "code",
   "execution_count": 39,
   "id": "3058a8e8",
   "metadata": {
    "execution": {
     "iopub.execute_input": "2023-04-17T13:36:20.584059Z",
     "iopub.status.busy": "2023-04-17T13:36:20.583388Z",
     "iopub.status.idle": "2023-04-17T13:36:20.603717Z",
     "shell.execute_reply": "2023-04-17T13:36:20.601485Z"
    },
    "papermill": {
     "duration": 0.055221,
     "end_time": "2023-04-17T13:36:20.606334",
     "exception": false,
     "start_time": "2023-04-17T13:36:20.551113",
     "status": "completed"
    },
    "tags": []
   },
   "outputs": [
    {
     "name": "stdout",
     "output_type": "stream",
     "text": [
      "<class 'pandas.core.frame.DataFrame'>\n",
      "RangeIndex: 149032 entries, 0 to 149031\n",
      "Data columns (total 16 columns):\n",
      " #   Column                Non-Null Count   Dtype  \n",
      "---  ------                --------------   -----  \n",
      " 0   Email                 149032 non-null  int64  \n",
      " 1   Leads_Source          149032 non-null  int64  \n",
      " 2   Sales owner           149032 non-null  int64  \n",
      " 3   Team                  149032 non-null  int64  \n",
      " 4   Pcrtoduct_interested  149032 non-null  int64  \n",
      " 5   Lead_State            149032 non-null  int64  \n",
      " 6   Lead_city             149032 non-null  int64  \n",
      " 7   page-url              149032 non-null  int64  \n",
      " 8   Lead_hour             149032 non-null  int64  \n",
      " 9   Accepts Marketing     149032 non-null  float64\n",
      " 10  Total                 149032 non-null  float64\n",
      " 11  Discount Amount       149032 non-null  float64\n",
      " 12  Vendor                149032 non-null  int64  \n",
      " 13  Outstanding Balance   149032 non-null  float64\n",
      " 14  Source                149032 non-null  int64  \n",
      " 15  Status                149032 non-null  int64  \n",
      "dtypes: float64(4), int64(12)\n",
      "memory usage: 18.2 MB\n"
     ]
    }
   ],
   "source": [
    "df_drop_copy.info()"
   ]
  },
  {
   "cell_type": "code",
   "execution_count": 40,
   "id": "e507eba8",
   "metadata": {
    "execution": {
     "iopub.execute_input": "2023-04-17T13:36:20.669882Z",
     "iopub.status.busy": "2023-04-17T13:36:20.668921Z",
     "iopub.status.idle": "2023-04-17T13:36:20.685450Z",
     "shell.execute_reply": "2023-04-17T13:36:20.683984Z"
    },
    "papermill": {
     "duration": 0.051451,
     "end_time": "2023-04-17T13:36:20.688437",
     "exception": false,
     "start_time": "2023-04-17T13:36:20.636986",
     "status": "completed"
    },
    "tags": []
   },
   "outputs": [
    {
     "data": {
      "text/plain": [
       "Email                   0\n",
       "Leads_Source            0\n",
       "Sales owner             0\n",
       "Team                    0\n",
       "Pcrtoduct_interested    0\n",
       "Lead_State              0\n",
       "Lead_city               0\n",
       "page-url                0\n",
       "Lead_hour               0\n",
       "Accepts Marketing       0\n",
       "Total                   0\n",
       "Discount Amount         0\n",
       "Vendor                  0\n",
       "Outstanding Balance     0\n",
       "Source                  0\n",
       "Status                  0\n",
       "dtype: int64"
      ]
     },
     "execution_count": 40,
     "metadata": {},
     "output_type": "execute_result"
    }
   ],
   "source": [
    "df_drop_copy.isnull().sum()"
   ]
  },
  {
   "cell_type": "code",
   "execution_count": 41,
   "id": "4192e34b",
   "metadata": {
    "execution": {
     "iopub.execute_input": "2023-04-17T13:36:20.753144Z",
     "iopub.status.busy": "2023-04-17T13:36:20.751823Z",
     "iopub.status.idle": "2023-04-17T13:36:25.030316Z",
     "shell.execute_reply": "2023-04-17T13:36:25.028865Z"
    },
    "papermill": {
     "duration": 4.314501,
     "end_time": "2023-04-17T13:36:25.033638",
     "exception": false,
     "start_time": "2023-04-17T13:36:20.719137",
     "status": "completed"
    },
    "tags": []
   },
   "outputs": [
    {
     "data": {
      "image/png": "[encoded data removed]",
      "text/plain": [
       "<Figure size 640x480 with 1 Axes>"
      ]
     },
     "metadata": {},
     "output_type": "display_data"
    },
    {
     "data": {
      "image/png": "[encoded data removed]",
      "text/plain": [
       "<Figure size 640x480 with 1 Axes>"
      ]
     },
     "metadata": {},
     "output_type": "display_data"
    },
    {
     "data": {
      "image/png": "[encoded data removed]",
      "text/plain": [
       "<Figure size 640x480 with 1 Axes>"
      ]
     },
     "metadata": {},
     "output_type": "display_data"
    },
    {
     "data": {
      "image/png": "[encoded data removed]",
      "text/plain": [
       "<Figure size 640x480 with 1 Axes>"
      ]
     },
     "metadata": {},
     "output_type": "display_data"
    },
    {
     "data": {
      "image/png": "[encoded data removed]",
      "text/plain": [
       "<Figure size 640x480 with 1 Axes>"
      ]
     },
     "metadata": {},
     "output_type": "display_data"
    },
    {
     "data": {
      "image/png": "[encoded data removed]",
      "text/plain": [
       "<Figure size 640x480 with 1 Axes>"
      ]
     },
     "metadata": {},
     "output_type": "display_data"
    },
    {
     "data": {
      "image/png": "[encoded data removed]",
      "text/plain": [
       "<Figure size 640x480 with 1 Axes>"
      ]
     },
     "metadata": {},
     "output_type": "display_data"
    },
    {
     "data": {
      "image/png": "[encoded data removed]",
      "text/plain": [
       "<Figure size 640x480 with 1 Axes>"
      ]
     },
     "metadata": {},
     "output_type": "display_data"
    },
    {
     "data": {
      "image/png": "[encoded data removed]",
      "text/plain": [
       "<Figure size 640x480 with 1 Axes>"
      ]
     },
     "metadata": {},
     "output_type": "display_data"
    },
    {
     "data": {
      "image/png": "[encoded data removed]",
      "text/plain": [
       "<Figure size 640x480 with 1 Axes>"
      ]
     },
     "metadata": {},
     "output_type": "display_data"
    },
    {
     "data": {
      "image/png": "[encoded data removed]",
      "text/plain": [
       "<Figure size 640x480 with 1 Axes>"
      ]
     },
     "metadata": {},
     "output_type": "display_data"
    },
    {
     "data": {
      "image/png": "[encoded data removed]",
      "text/plain": [
       "<Figure size 640x480 with 1 Axes>"
      ]
     },
     "metadata": {},
     "output_type": "display_data"
    },
    {
     "data": {
      "image/png": "[encoded data removed]",
      "text/plain": [
       "<Figure size 640x480 with 1 Axes>"
      ]
     },
     "metadata": {},
     "output_type": "display_data"
    },
    {
     "data": {
      "image/png": "[encoded data removed]",
      "text/plain": [
       "<Figure size 640x480 with 1 Axes>"
      ]
     },
     "metadata": {},
     "output_type": "display_data"
    },
    {
     "data": {
      "image/png": "[encoded data removed]",
      "text/plain": [
       "<Figure size 640x480 with 1 Axes>"
      ]
     },
     "metadata": {},
     "output_type": "display_data"
    },
    {
     "data": {
      "image/png": "[encoded data removed]",
      "text/plain": [
       "<Figure size 640x480 with 1 Axes>"
      ]
     },
     "metadata": {},
     "output_type": "display_data"
    }
   ],
   "source": [
    "for col in df_drop_copy:\n",
    "    plt.hist(df_drop_copy[col], bins=20)\n",
    "    plt.title(col)\n",
    "    plt.xlabel('Value')\n",
    "    plt.ylabel('Frequency')\n",
    "    plt.show()"
   ]
  },
  {
   "cell_type": "markdown",
   "id": "332ac7b1",
   "metadata": {
    "papermill": {
     "duration": 0.038619,
     "end_time": "2023-04-17T13:36:25.112190",
     "exception": false,
     "start_time": "2023-04-17T13:36:25.073571",
     "status": "completed"
    },
    "tags": []
   },
   "source": [
    "# MODEL CREATION\n"
   ]
  },
  {
   "cell_type": "code",
   "execution_count": 42,
   "id": "b38ae1eb",
   "metadata": {
    "execution": {
     "iopub.execute_input": "2023-04-17T13:36:25.192792Z",
     "iopub.status.busy": "2023-04-17T13:36:25.192292Z",
     "iopub.status.idle": "2023-04-17T13:36:25.223436Z",
     "shell.execute_reply": "2023-04-17T13:36:25.222382Z"
    },
    "papermill": {
     "duration": 0.075357,
     "end_time": "2023-04-17T13:36:25.226464",
     "exception": false,
     "start_time": "2023-04-17T13:36:25.151107",
     "status": "completed"
    },
    "tags": []
   },
   "outputs": [],
   "source": [
    "# Separate the features from the target variable\n",
    "X = df_drop_copy.drop(['Status'], axis=1)  # exclude the 'Status' column from features\n",
    "y = df_drop_copy['Status']"
   ]
  },
  {
   "cell_type": "code",
   "execution_count": 43,
   "id": "683f6442",
   "metadata": {
    "execution": {
     "iopub.execute_input": "2023-04-17T13:36:25.305397Z",
     "iopub.status.busy": "2023-04-17T13:36:25.304869Z",
     "iopub.status.idle": "2023-04-17T13:36:25.312839Z",
     "shell.execute_reply": "2023-04-17T13:36:25.311505Z"
    },
    "papermill": {
     "duration": 0.050837,
     "end_time": "2023-04-17T13:36:25.315720",
     "exception": false,
     "start_time": "2023-04-17T13:36:25.264883",
     "status": "completed"
    },
    "tags": []
   },
   "outputs": [
    {
     "data": {
      "text/plain": [
       "(149032, 15)"
      ]
     },
     "execution_count": 43,
     "metadata": {},
     "output_type": "execute_result"
    }
   ],
   "source": [
    "X.shape"
   ]
  },
  {
   "cell_type": "code",
   "execution_count": 44,
   "id": "177d3c2f",
   "metadata": {
    "execution": {
     "iopub.execute_input": "2023-04-17T13:36:25.395006Z",
     "iopub.status.busy": "2023-04-17T13:36:25.393769Z",
     "iopub.status.idle": "2023-04-17T13:36:25.401779Z",
     "shell.execute_reply": "2023-04-17T13:36:25.400454Z"
    },
    "papermill": {
     "duration": 0.050304,
     "end_time": "2023-04-17T13:36:25.404603",
     "exception": false,
     "start_time": "2023-04-17T13:36:25.354299",
     "status": "completed"
    },
    "tags": []
   },
   "outputs": [
    {
     "data": {
      "text/plain": [
       "(149032,)"
      ]
     },
     "execution_count": 44,
     "metadata": {},
     "output_type": "execute_result"
    }
   ],
   "source": [
    "y.shape"
   ]
  },
  {
   "cell_type": "markdown",
   "id": "c9f8a24f",
   "metadata": {
    "papermill": {
     "duration": 0.036831,
     "end_time": "2023-04-17T13:36:25.478528",
     "exception": false,
     "start_time": "2023-04-17T13:36:25.441697",
     "status": "completed"
    },
    "tags": []
   },
   "source": [
    "**Random Forest**"
   ]
  },
  {
   "cell_type": "code",
   "execution_count": 45,
   "id": "7ae6745f",
   "metadata": {
    "execution": {
     "iopub.execute_input": "2023-04-17T13:36:25.555603Z",
     "iopub.status.busy": "2023-04-17T13:36:25.554366Z",
     "iopub.status.idle": "2023-04-17T13:36:25.670284Z",
     "shell.execute_reply": "2023-04-17T13:36:25.668989Z"
    },
    "papermill": {
     "duration": 0.15769,
     "end_time": "2023-04-17T13:36:25.673436",
     "exception": false,
     "start_time": "2023-04-17T13:36:25.515746",
     "status": "completed"
    },
    "tags": []
   },
   "outputs": [],
   "source": [
    "from sklearn.model_selection import train_test_split\n",
    "X_train, X_test, y_train, y_test = train_test_split(X, y, test_size=0.15, random_state=5)"
   ]
  },
  {
   "cell_type": "code",
   "execution_count": 46,
   "id": "0eff8b07",
   "metadata": {
    "execution": {
     "iopub.execute_input": "2023-04-17T13:36:25.750556Z",
     "iopub.status.busy": "2023-04-17T13:36:25.749706Z",
     "iopub.status.idle": "2023-04-17T13:39:25.488909Z",
     "shell.execute_reply": "2023-04-17T13:39:25.487512Z"
    },
    "papermill": {
     "duration": 179.781185,
     "end_time": "2023-04-17T13:39:25.492028",
     "exception": false,
     "start_time": "2023-04-17T13:36:25.710843",
     "status": "completed"
    },
    "tags": []
   },
   "outputs": [],
   "source": [
    "from sklearn.ensemble import RandomForestClassifier\n",
    "rfc2=RandomForestClassifier(n_estimators=1000, random_state=0)\n",
    "\n",
    "# training\n",
    "rfc2.fit(X_train,y_train)\n",
    "\n",
    "# predict\n",
    "y_pred = rfc2.predict(X_test)"
   ]
  },
  {
   "cell_type": "code",
   "execution_count": 47,
   "id": "dd175082",
   "metadata": {
    "execution": {
     "iopub.execute_input": "2023-04-17T13:39:25.570426Z",
     "iopub.status.busy": "2023-04-17T13:39:25.569940Z",
     "iopub.status.idle": "2023-04-17T13:39:25.815547Z",
     "shell.execute_reply": "2023-04-17T13:39:25.814285Z"
    },
    "papermill": {
     "duration": 0.288441,
     "end_time": "2023-04-17T13:39:25.818555",
     "exception": false,
     "start_time": "2023-04-17T13:39:25.530114",
     "status": "completed"
    },
    "tags": []
   },
   "outputs": [
    {
     "data": {
      "image/png": "[encoded data removed]",
      "text/plain": [
       "<Figure size 640x480 with 1 Axes>"
      ]
     },
     "metadata": {},
     "output_type": "display_data"
    }
   ],
   "source": [
    "import numpy as np\n",
    "import matplotlib.pyplot as plt\n",
    "\n",
    "# create histogram of predicted values\n",
    "plt.hist(y_pred, bins='auto')\n",
    "plt.title(\"Histogram of predicted values\")\n",
    "plt.show()"
   ]
  },
  {
   "cell_type": "code",
   "execution_count": 48,
   "id": "bc677215",
   "metadata": {
    "execution": {
     "iopub.execute_input": "2023-04-17T13:39:25.899185Z",
     "iopub.status.busy": "2023-04-17T13:39:25.897640Z",
     "iopub.status.idle": "2023-04-17T13:39:29.321627Z",
     "shell.execute_reply": "2023-04-17T13:39:29.320259Z"
    },
    "papermill": {
     "duration": 3.467095,
     "end_time": "2023-04-17T13:39:29.324251",
     "exception": false,
     "start_time": "2023-04-17T13:39:25.857156",
     "status": "completed"
    },
    "tags": []
   },
   "outputs": [
    {
     "name": "stdout",
     "output_type": "stream",
     "text": [
      "              precision    recall  f1-score   support\n",
      "\n",
      "           0       0.99      1.00      0.99     18493\n",
      "           1       0.99      0.94      0.97      3862\n",
      "\n",
      "    accuracy                           0.99     22355\n",
      "   macro avg       0.99      0.97      0.98     22355\n",
      "weighted avg       0.99      0.99      0.99     22355\n",
      "\n"
     ]
    }
   ],
   "source": [
    "from sklearn.metrics import classification_report\n",
    "y_pred = rfc2.predict(X_test)\n",
    "print(classification_report(y_test, y_pred))"
   ]
  },
  {
   "cell_type": "code",
   "execution_count": 49,
   "id": "5d3ada69",
   "metadata": {
    "execution": {
     "iopub.execute_input": "2023-04-17T13:39:29.403710Z",
     "iopub.status.busy": "2023-04-17T13:39:29.403272Z",
     "iopub.status.idle": "2023-04-17T13:39:29.411547Z",
     "shell.execute_reply": "2023-04-17T13:39:29.410398Z"
    },
    "papermill": {
     "duration": 0.051236,
     "end_time": "2023-04-17T13:39:29.413809",
     "exception": false,
     "start_time": "2023-04-17T13:39:29.362573",
     "status": "completed"
    },
    "tags": []
   },
   "outputs": [
    {
     "name": "stdout",
     "output_type": "stream",
     "text": [
      "Accuracy: 0.9886378886155223\n"
     ]
    }
   ],
   "source": [
    "from sklearn import metrics\n",
    "print(\"Accuracy:\",metrics.accuracy_score(y_test, y_pred))"
   ]
  },
  {
   "cell_type": "code",
   "execution_count": 50,
   "id": "a4cad5a6",
   "metadata": {
    "execution": {
     "iopub.execute_input": "2023-04-17T13:39:29.492794Z",
     "iopub.status.busy": "2023-04-17T13:39:29.492359Z",
     "iopub.status.idle": "2023-04-17T13:39:29.507068Z",
     "shell.execute_reply": "2023-04-17T13:39:29.505491Z"
    },
    "papermill": {
     "duration": 0.057782,
     "end_time": "2023-04-17T13:39:29.509694",
     "exception": false,
     "start_time": "2023-04-17T13:39:29.451912",
     "status": "completed"
    },
    "tags": []
   },
   "outputs": [
    {
     "name": "stdout",
     "output_type": "stream",
     "text": [
      "Recall: 0.9438114966338684\n"
     ]
    }
   ],
   "source": [
    "print(\"Recall:\",metrics.recall_score(y_test, y_pred))"
   ]
  },
  {
   "cell_type": "markdown",
   "id": "1059f758",
   "metadata": {
    "papermill": {
     "duration": 0.039264,
     "end_time": "2023-04-17T13:39:29.587739",
     "exception": false,
     "start_time": "2023-04-17T13:39:29.548475",
     "status": "completed"
    },
    "tags": []
   },
   "source": [
    "**Logistic Regression**"
   ]
  },
  {
   "cell_type": "code",
   "execution_count": 51,
   "id": "25042560",
   "metadata": {
    "execution": {
     "iopub.execute_input": "2023-04-17T13:39:29.670525Z",
     "iopub.status.busy": "2023-04-17T13:39:29.669049Z",
     "iopub.status.idle": "2023-04-17T13:39:29.685217Z",
     "shell.execute_reply": "2023-04-17T13:39:29.683554Z"
    },
    "papermill": {
     "duration": 0.061305,
     "end_time": "2023-04-17T13:39:29.688232",
     "exception": false,
     "start_time": "2023-04-17T13:39:29.626927",
     "status": "completed"
    },
    "tags": []
   },
   "outputs": [],
   "source": [
    "# Separate the features from the target variable\n",
    "X = df_drop_copy.drop(['Status'], axis=1)  # exclude the 'Status' column from features\n",
    "y = df_drop_copy['Status']"
   ]
  },
  {
   "cell_type": "code",
   "execution_count": 52,
   "id": "ccae758e",
   "metadata": {
    "execution": {
     "iopub.execute_input": "2023-04-17T13:39:29.768501Z",
     "iopub.status.busy": "2023-04-17T13:39:29.768043Z",
     "iopub.status.idle": "2023-04-17T13:39:31.943995Z",
     "shell.execute_reply": "2023-04-17T13:39:31.942634Z"
    },
    "papermill": {
     "duration": 2.221699,
     "end_time": "2023-04-17T13:39:31.949229",
     "exception": false,
     "start_time": "2023-04-17T13:39:29.727530",
     "status": "completed"
    },
    "tags": []
   },
   "outputs": [
    {
     "name": "stderr",
     "output_type": "stream",
     "text": [
      "/opt/conda/lib/python3.7/site-packages/sklearn/linear_model/_logistic.py:818: ConvergenceWarning: lbfgs failed to converge (status=1):\n",
      "STOP: TOTAL NO. of ITERATIONS REACHED LIMIT.\n",
      "\n",
      "Increase the number of iterations (max_iter) or scale the data as shown in:\n",
      "    https://scikit-learn.org/stable/modules/preprocessing.html\n",
      "Please also refer to the documentation for alternative solver options:\n",
      "    https://scikit-learn.org/stable/modules/linear_model.html#logistic-regression\n",
      "  extra_warning_msg=_LOGISTIC_SOLVER_CONVERGENCE_MSG,\n"
     ]
    },
    {
     "data": {
      "text/plain": [
       "LogisticRegression()"
      ]
     },
     "execution_count": 52,
     "metadata": {},
     "output_type": "execute_result"
    }
   ],
   "source": [
    "\n",
    "X_train, X_test, y_train, y_test = train_test_split(X, y, test_size=0.15, random_state=5)\n",
    "\n",
    "from sklearn.linear_model import LogisticRegression\n",
    "model = LogisticRegression()\n",
    "model.fit(X_train, y_train)"
   ]
  },
  {
   "cell_type": "code",
   "execution_count": 53,
   "id": "53843b64",
   "metadata": {
    "execution": {
     "iopub.execute_input": "2023-04-17T13:39:32.087856Z",
     "iopub.status.busy": "2023-04-17T13:39:32.087456Z",
     "iopub.status.idle": "2023-04-17T13:39:32.169900Z",
     "shell.execute_reply": "2023-04-17T13:39:32.168081Z"
    },
    "papermill": {
     "duration": 0.128017,
     "end_time": "2023-04-17T13:39:32.175162",
     "exception": false,
     "start_time": "2023-04-17T13:39:32.047145",
     "status": "completed"
    },
    "tags": []
   },
   "outputs": [
    {
     "name": "stdout",
     "output_type": "stream",
     "text": [
      "              precision    recall  f1-score   support\n",
      "\n",
      "           0       0.83      0.99      0.90     18493\n",
      "           1       0.38      0.04      0.07      3862\n",
      "\n",
      "    accuracy                           0.82     22355\n",
      "   macro avg       0.61      0.51      0.48     22355\n",
      "weighted avg       0.75      0.82      0.76     22355\n",
      "\n"
     ]
    }
   ],
   "source": [
    "from sklearn.metrics import classification_report\n",
    "y_pred = model.predict(X_test)\n",
    "print(classification_report(y_test, y_pred))"
   ]
  },
  {
   "cell_type": "code",
   "execution_count": 54,
   "id": "80009ef6",
   "metadata": {
    "execution": {
     "iopub.execute_input": "2023-04-17T13:39:32.282389Z",
     "iopub.status.busy": "2023-04-17T13:39:32.281931Z",
     "iopub.status.idle": "2023-04-17T13:39:32.291264Z",
     "shell.execute_reply": "2023-04-17T13:39:32.289778Z"
    },
    "papermill": {
     "duration": 0.052565,
     "end_time": "2023-04-17T13:39:32.293672",
     "exception": false,
     "start_time": "2023-04-17T13:39:32.241107",
     "status": "completed"
    },
    "tags": []
   },
   "outputs": [
    {
     "name": "stdout",
     "output_type": "stream",
     "text": [
      "Accuracy: 0.8232162827108029\n"
     ]
    }
   ],
   "source": [
    "from sklearn import metrics\n",
    "print(\"Accuracy:\",metrics.accuracy_score(y_test, y_pred))"
   ]
  },
  {
   "cell_type": "code",
   "execution_count": 55,
   "id": "f7159be0",
   "metadata": {
    "execution": {
     "iopub.execute_input": "2023-04-17T13:39:32.374628Z",
     "iopub.status.busy": "2023-04-17T13:39:32.373446Z",
     "iopub.status.idle": "2023-04-17T13:39:32.387303Z",
     "shell.execute_reply": "2023-04-17T13:39:32.386389Z"
    },
    "papermill": {
     "duration": 0.05718,
     "end_time": "2023-04-17T13:39:32.389782",
     "exception": false,
     "start_time": "2023-04-17T13:39:32.332602",
     "status": "completed"
    },
    "tags": []
   },
   "outputs": [
    {
     "name": "stdout",
     "output_type": "stream",
     "text": [
      "Recall: 0.03676851372345935\n"
     ]
    }
   ],
   "source": [
    "print(\"Recall:\",metrics.recall_score(y_test, y_pred))"
   ]
  },
  {
   "cell_type": "markdown",
   "id": "6640c867",
   "metadata": {
    "papermill": {
     "duration": 0.039178,
     "end_time": "2023-04-17T13:39:32.469033",
     "exception": false,
     "start_time": "2023-04-17T13:39:32.429855",
     "status": "completed"
    },
    "tags": []
   },
   "source": [
    "**Decision Trees**"
   ]
  },
  {
   "cell_type": "code",
   "execution_count": 56,
   "id": "e3134693",
   "metadata": {
    "execution": {
     "iopub.execute_input": "2023-04-17T13:39:32.550278Z",
     "iopub.status.busy": "2023-04-17T13:39:32.549440Z",
     "iopub.status.idle": "2023-04-17T13:39:33.334191Z",
     "shell.execute_reply": "2023-04-17T13:39:33.332824Z"
    },
    "papermill": {
     "duration": 0.828654,
     "end_time": "2023-04-17T13:39:33.337277",
     "exception": false,
     "start_time": "2023-04-17T13:39:32.508623",
     "status": "completed"
    },
    "tags": []
   },
   "outputs": [],
   "source": [
    "# DECISION TREES\n",
    "from sklearn.tree import DecisionTreeClassifier\n",
    "X_train, X_test, y_train, y_test = train_test_split(X, y, test_size=0.2, random_state=5)\n",
    "\n",
    "DT2 = DecisionTreeClassifier(random_state=0)\n",
    "\n",
    "# training\n",
    "DT2 = DT2.fit(X_train,y_train)\n",
    "\n",
    "# predictiong\n",
    "y_pred = DT2.predict(X_test)"
   ]
  },
  {
   "cell_type": "code",
   "execution_count": 57,
   "id": "819ee926",
   "metadata": {
    "execution": {
     "iopub.execute_input": "2023-04-17T13:39:33.418044Z",
     "iopub.status.busy": "2023-04-17T13:39:33.417601Z",
     "iopub.status.idle": "2023-04-17T13:39:33.426937Z",
     "shell.execute_reply": "2023-04-17T13:39:33.425548Z"
    },
    "papermill": {
     "duration": 0.052496,
     "end_time": "2023-04-17T13:39:33.429376",
     "exception": false,
     "start_time": "2023-04-17T13:39:33.376880",
     "status": "completed"
    },
    "tags": []
   },
   "outputs": [
    {
     "name": "stdout",
     "output_type": "stream",
     "text": [
      "Accuracy: 0.9819840976951723\n"
     ]
    }
   ],
   "source": [
    "print(\"Accuracy:\",metrics.accuracy_score(y_test, y_pred))"
   ]
  },
  {
   "cell_type": "code",
   "execution_count": 58,
   "id": "ff98780a",
   "metadata": {
    "execution": {
     "iopub.execute_input": "2023-04-17T13:39:33.510930Z",
     "iopub.status.busy": "2023-04-17T13:39:33.510166Z",
     "iopub.status.idle": "2023-04-17T13:39:33.537766Z",
     "shell.execute_reply": "2023-04-17T13:39:33.536310Z"
    },
    "papermill": {
     "duration": 0.071401,
     "end_time": "2023-04-17T13:39:33.540514",
     "exception": false,
     "start_time": "2023-04-17T13:39:33.469113",
     "status": "completed"
    },
    "tags": []
   },
   "outputs": [
    {
     "name": "stdout",
     "output_type": "stream",
     "text": [
      "Precision: 0.9442535318823979\n",
      "Recall: 0.9528029281448661\n"
     ]
    }
   ],
   "source": [
    "print(\"Precision:\",metrics.precision_score(y_test, y_pred))\n",
    "print(\"Recall:\",metrics.recall_score(y_test, y_pred))"
   ]
  },
  {
   "cell_type": "markdown",
   "id": "17f26358",
   "metadata": {
    "papermill": {
     "duration": 0.038542,
     "end_time": "2023-04-17T13:39:33.618439",
     "exception": false,
     "start_time": "2023-04-17T13:39:33.579897",
     "status": "completed"
    },
    "tags": []
   },
   "source": [
    "**XG BOOST**"
   ]
  },
  {
   "cell_type": "code",
   "execution_count": 59,
   "id": "77c6ee59",
   "metadata": {
    "execution": {
     "iopub.execute_input": "2023-04-17T13:39:33.698651Z",
     "iopub.status.busy": "2023-04-17T13:39:33.698231Z",
     "iopub.status.idle": "2023-04-17T13:39:38.142773Z",
     "shell.execute_reply": "2023-04-17T13:39:38.141641Z"
    },
    "papermill": {
     "duration": 4.487952,
     "end_time": "2023-04-17T13:39:38.145675",
     "exception": false,
     "start_time": "2023-04-17T13:39:33.657723",
     "status": "completed"
    },
    "tags": []
   },
   "outputs": [],
   "source": [
    "X_train, X_test, y_train, y_test = train_test_split(X, y, test_size=0.2, random_state=5)\n",
    "\n",
    "import xgboost as xgb\n",
    "\n",
    "# Create the model object\n",
    "xgb_model = xgb.XGBClassifier(n_estimators=100, max_depth=3, learning_rate=0.1)\n",
    "\n",
    "# Fit the model on the training data\n",
    "xgb_model.fit(X_train, y_train)\n",
    "\n",
    "# predictiong\n",
    "y_pred = xgb_model.predict(X_test)"
   ]
  },
  {
   "cell_type": "code",
   "execution_count": 60,
   "id": "a50b6a05",
   "metadata": {
    "execution": {
     "iopub.execute_input": "2023-04-17T13:39:38.227485Z",
     "iopub.status.busy": "2023-04-17T13:39:38.227045Z",
     "iopub.status.idle": "2023-04-17T13:39:38.257691Z",
     "shell.execute_reply": "2023-04-17T13:39:38.256301Z"
    },
    "papermill": {
     "duration": 0.073609,
     "end_time": "2023-04-17T13:39:38.260188",
     "exception": false,
     "start_time": "2023-04-17T13:39:38.186579",
     "status": "completed"
    },
    "tags": []
   },
   "outputs": [
    {
     "name": "stdout",
     "output_type": "stream",
     "text": [
      "Accuracy: 0.9812795652028047\n",
      "Precision: 0.9965702036441586\n",
      "Recall: 0.8955885185898671\n"
     ]
    }
   ],
   "source": [
    "print(\"Accuracy:\",metrics.accuracy_score(y_test, y_pred))\n",
    "print(\"Precision:\",metrics.precision_score(y_test, y_pred))\n",
    "print(\"Recall:\",metrics.recall_score(y_test, y_pred))"
   ]
  },
  {
   "cell_type": "markdown",
   "id": "4ae2a9a0",
   "metadata": {
    "papermill": {
     "duration": 0.038479,
     "end_time": "2023-04-17T13:39:38.337891",
     "exception": false,
     "start_time": "2023-04-17T13:39:38.299412",
     "status": "completed"
    },
    "tags": []
   },
   "source": [
    "**Naive Bayes**"
   ]
  },
  {
   "cell_type": "code",
   "execution_count": 61,
   "id": "53fc87bd",
   "metadata": {
    "execution": {
     "iopub.execute_input": "2023-04-17T13:39:38.418278Z",
     "iopub.status.busy": "2023-04-17T13:39:38.417826Z",
     "iopub.status.idle": "2023-04-17T13:39:38.506887Z",
     "shell.execute_reply": "2023-04-17T13:39:38.505599Z"
    },
    "papermill": {
     "duration": 0.132805,
     "end_time": "2023-04-17T13:39:38.509938",
     "exception": false,
     "start_time": "2023-04-17T13:39:38.377133",
     "status": "completed"
    },
    "tags": []
   },
   "outputs": [],
   "source": [
    "from sklearn.naive_bayes import GaussianNB\n",
    "\n",
    "X_train, X_test, y_train, y_test = train_test_split(X, y, test_size=0.2, random_state=5)\n",
    "\n",
    "# Create a Naive Bayes classifier object\n",
    "nb = GaussianNB()\n",
    "\n",
    "# Fit the classifier on the training data\n",
    "nb.fit(X_train, y_train)\n",
    "\n",
    "# predictiong\n",
    "y_pred = nb.predict(X_test)"
   ]
  },
  {
   "cell_type": "code",
   "execution_count": 62,
   "id": "0b446f6b",
   "metadata": {
    "execution": {
     "iopub.execute_input": "2023-04-17T13:39:38.590517Z",
     "iopub.status.busy": "2023-04-17T13:39:38.589917Z",
     "iopub.status.idle": "2023-04-17T13:39:38.620952Z",
     "shell.execute_reply": "2023-04-17T13:39:38.619476Z"
    },
    "papermill": {
     "duration": 0.074478,
     "end_time": "2023-04-17T13:39:38.623655",
     "exception": false,
     "start_time": "2023-04-17T13:39:38.549177",
     "status": "completed"
    },
    "tags": []
   },
   "outputs": [
    {
     "name": "stdout",
     "output_type": "stream",
     "text": [
      "Accuracy: 0.969436709497769\n",
      "Precision: 1.0\n",
      "Recall: 0.824503949142747\n"
     ]
    }
   ],
   "source": [
    "print(\"Accuracy:\",metrics.accuracy_score(y_test, y_pred))\n",
    "print(\"Precision:\",metrics.precision_score(y_test, y_pred))\n",
    "print(\"Recall:\",metrics.recall_score(y_test, y_pred))"
   ]
  },
  {
   "cell_type": "markdown",
   "id": "29dd1622",
   "metadata": {
    "papermill": {
     "duration": 0.038879,
     "end_time": "2023-04-17T13:39:38.702320",
     "exception": false,
     "start_time": "2023-04-17T13:39:38.663441",
     "status": "completed"
    },
    "tags": []
   },
   "source": [
    "# PERFORMING THE SAME FEATURE ENGINEERING IN EST DATA"
   ]
  },
  {
   "cell_type": "code",
   "execution_count": 63,
   "id": "bdb47129",
   "metadata": {
    "execution": {
     "iopub.execute_input": "2023-04-17T13:39:38.785101Z",
     "iopub.status.busy": "2023-04-17T13:39:38.784030Z",
     "iopub.status.idle": "2023-04-17T13:39:38.797516Z",
     "shell.execute_reply": "2023-04-17T13:39:38.796319Z"
    },
    "papermill": {
     "duration": 0.057864,
     "end_time": "2023-04-17T13:39:38.800138",
     "exception": false,
     "start_time": "2023-04-17T13:39:38.742274",
     "status": "completed"
    },
    "tags": []
   },
   "outputs": [],
   "source": [
    "estdf = est_df.copy()"
   ]
  },
  {
   "cell_type": "code",
   "execution_count": 64,
   "id": "4df17a9a",
   "metadata": {
    "execution": {
     "iopub.execute_input": "2023-04-17T13:39:38.881067Z",
     "iopub.status.busy": "2023-04-17T13:39:38.880613Z",
     "iopub.status.idle": "2023-04-17T13:39:38.942670Z",
     "shell.execute_reply": "2023-04-17T13:39:38.941254Z"
    },
    "papermill": {
     "duration": 0.106267,
     "end_time": "2023-04-17T13:39:38.945558",
     "exception": false,
     "start_time": "2023-04-17T13:39:38.839291",
     "status": "completed"
    },
    "tags": []
   },
   "outputs": [
    {
     "data": {
      "text/plain": [
       "Unnamed: 0                  0\n",
       "Unnamed: 0.1                0\n",
       "Email                    1889\n",
       "Leads_Source                0\n",
       "Work email              63872\n",
       "Job title               63872\n",
       "Sales owner             37967\n",
       "Owner Email             37967\n",
       "Territory               60451\n",
       "Team                    38011\n",
       "Pcrtoduct_interested    50346\n",
       "Lead_Zipcode            21081\n",
       "Lead_State              21350\n",
       "Lead_city               20731\n",
       "url-campaign            63872\n",
       "page-url                57247\n",
       "Lead_hour                   0\n",
       "Fulfillment Status      54524\n",
       "Fulfilled at            55203\n",
       "Accepts Marketing       54524\n",
       "Shipping                54524\n",
       "Total                   54524\n",
       "Discount Amount         54524\n",
       "Payment Method          54546\n",
       "Refunded Amount         54524\n",
       "Vendor                  52671\n",
       "Outstanding Balance     54524\n",
       "Source                  54524\n",
       "ID                          0\n",
       "dtype: int64"
      ]
     },
     "execution_count": 64,
     "metadata": {},
     "output_type": "execute_result"
    }
   ],
   "source": [
    "estdf.isnull().sum()"
   ]
  },
  {
   "cell_type": "code",
   "execution_count": 65,
   "id": "fe29c695",
   "metadata": {
    "execution": {
     "iopub.execute_input": "2023-04-17T13:39:39.027147Z",
     "iopub.status.busy": "2023-04-17T13:39:39.026396Z",
     "iopub.status.idle": "2023-04-17T13:39:39.095009Z",
     "shell.execute_reply": "2023-04-17T13:39:39.092897Z"
    },
    "papermill": {
     "duration": 0.113,
     "end_time": "2023-04-17T13:39:39.097946",
     "exception": false,
     "start_time": "2023-04-17T13:39:38.984946",
     "status": "completed"
    },
    "tags": []
   },
   "outputs": [
    {
     "name": "stdout",
     "output_type": "stream",
     "text": [
      "<class 'pandas.core.frame.DataFrame'>\n",
      "RangeIndex: 63872 entries, 0 to 63871\n",
      "Data columns (total 29 columns):\n",
      " #   Column                Non-Null Count  Dtype  \n",
      "---  ------                --------------  -----  \n",
      " 0   Unnamed: 0            63872 non-null  int64  \n",
      " 1   Unnamed: 0.1          63872 non-null  int64  \n",
      " 2   Email                 61983 non-null  object \n",
      " 3   Leads_Source          63872 non-null  object \n",
      " 4   Work email            0 non-null      float64\n",
      " 5   Job title             0 non-null      float64\n",
      " 6   Sales owner           25905 non-null  object \n",
      " 7   Owner Email           25905 non-null  object \n",
      " 8   Territory             3421 non-null   object \n",
      " 9   Team                  25861 non-null  object \n",
      " 10  Pcrtoduct_interested  13526 non-null  object \n",
      " 11  Lead_Zipcode          42791 non-null  object \n",
      " 12  Lead_State            42522 non-null  object \n",
      " 13  Lead_city             43141 non-null  object \n",
      " 14  url-campaign          0 non-null      float64\n",
      " 15  page-url              6625 non-null   object \n",
      " 16  Lead_hour             63872 non-null  object \n",
      " 17  Fulfillment Status    9348 non-null   object \n",
      " 18  Fulfilled at          8669 non-null   object \n",
      " 19  Accepts Marketing     9348 non-null   float64\n",
      " 20  Shipping              9348 non-null   float64\n",
      " 21  Total                 9348 non-null   float64\n",
      " 22  Discount Amount       9348 non-null   float64\n",
      " 23  Payment Method        9326 non-null   object \n",
      " 24  Refunded Amount       9348 non-null   float64\n",
      " 25  Vendor                11201 non-null  object \n",
      " 26  Outstanding Balance   9348 non-null   float64\n",
      " 27  Source                9348 non-null   object \n",
      " 28  ID                    63872 non-null  object \n",
      "dtypes: float64(9), int64(2), object(18)\n",
      "memory usage: 14.1+ MB\n"
     ]
    }
   ],
   "source": [
    "estdf.info()"
   ]
  },
  {
   "cell_type": "code",
   "execution_count": 66,
   "id": "a14ff5ac",
   "metadata": {
    "execution": {
     "iopub.execute_input": "2023-04-17T13:39:39.179969Z",
     "iopub.status.busy": "2023-04-17T13:39:39.179507Z",
     "iopub.status.idle": "2023-04-17T13:39:39.186580Z",
     "shell.execute_reply": "2023-04-17T13:39:39.184951Z"
    },
    "papermill": {
     "duration": 0.050957,
     "end_time": "2023-04-17T13:39:39.189384",
     "exception": false,
     "start_time": "2023-04-17T13:39:39.138427",
     "status": "completed"
    },
    "tags": []
   },
   "outputs": [
    {
     "name": "stdout",
     "output_type": "stream",
     "text": [
      "Index(['Unnamed: 0', 'Unnamed: 0.1', 'Email', 'Leads_Source', 'Work email',\n",
      "       'Job title', 'Sales owner', 'Owner Email', 'Territory', 'Team',\n",
      "       'Pcrtoduct_interested', 'Lead_Zipcode', 'Lead_State', 'Lead_city',\n",
      "       'url-campaign', 'page-url', 'Lead_hour', 'Fulfillment Status',\n",
      "       'Fulfilled at', 'Accepts Marketing', 'Shipping', 'Total',\n",
      "       'Discount Amount', 'Payment Method', 'Refunded Amount', 'Vendor',\n",
      "       'Outstanding Balance', 'Source', 'ID'],\n",
      "      dtype='object')\n"
     ]
    }
   ],
   "source": [
    "print(estdf.columns)"
   ]
  },
  {
   "cell_type": "code",
   "execution_count": 67,
   "id": "3c8f7002",
   "metadata": {
    "execution": {
     "iopub.execute_input": "2023-04-17T13:39:39.272853Z",
     "iopub.status.busy": "2023-04-17T13:39:39.271506Z",
     "iopub.status.idle": "2023-04-17T13:39:40.012906Z",
     "shell.execute_reply": "2023-04-17T13:39:40.011114Z"
    },
    "papermill": {
     "duration": 0.786948,
     "end_time": "2023-04-17T13:39:40.017249",
     "exception": false,
     "start_time": "2023-04-17T13:39:39.230301",
     "status": "completed"
    },
    "tags": []
   },
   "outputs": [],
   "source": [
    "estdf_copy=estdf.copy()\n",
    "estdf_copy = estdf_copy.drop(['Unnamed: 0', 'Unnamed: 0.1', 'Work email', 'Job title', 'Owner Email', 'Lead_Zipcode', 'Territory', 'Fulfillment Status', 'Fulfilled at', 'Shipping', 'ID', 'Payment Method', 'Refunded Amount', 'url-campaign'], axis=1)\n",
    "\n",
    "\n",
    "\n",
    "# Fill in missing values for Team, Product_interested, and page-url\n",
    "estdf_copy['Team'].fillna(estdf_copy['Team'].mode()[0], inplace=True)\n",
    "estdf_copy['Pcrtoduct_interested'].fillna('Unknown', inplace=True)\n",
    "estdf_copy['page-url'].fillna('Unknown', inplace=True)\n",
    "\n",
    "\n",
    "\n",
    "\n",
    "# Replace missing values in the 'Accepts Marketing' column with the mode\n",
    "estdf_copy['Accepts Marketing'].fillna(estdf_copy['Accepts Marketing'].mode()[0], inplace=True)\n",
    "\n",
    "# Replace missing values in the 'Total' column with the mean\n",
    "estdf_copy['Total'].fillna(estdf_copy['Total'].mean(), inplace=True)\n",
    "\n",
    "# Replace missing values in the 'Discount Amount' column with the mean\n",
    "estdf_copy['Discount Amount'].fillna(estdf_copy['Discount Amount'].mean(), inplace=True)\n",
    "\n",
    "# Replace missing values in the 'Outstanding Balance' column with the mean\n",
    "estdf_copy['Outstanding Balance'].fillna(estdf_copy['Outstanding Balance'].mean(), inplace=True)\n",
    "\n",
    "# Replace missing values in the 'Vendor' column with the mode\n",
    "estdf_copy['Vendor'].fillna(estdf_copy['Vendor'].mode()[0], inplace=True)\n",
    "\n",
    "estdf_copy['Source'].fillna(estdf_copy['Source'].mode()[0], inplace=True)\n",
    "\n",
    "# handling 'Email', 'Leads_Source', 'Sales owner', 'Lead_State', 'Lead_city'\n",
    "estdf_copy['Email'].fillna(estdf['Email'].mode()[0], inplace=True)\n",
    "estdf_copy['Leads_Source'].fillna(estdf_copy['Leads_Source'].mode()[0], inplace=True)\n",
    "estdf_copy['Sales owner'].fillna(estdf_copy['Sales owner'].mode()[0], inplace=True)\n",
    "estdf_copy['Lead_State'].fillna(estdf_copy['Lead_State'].mode()[0], inplace=True)\n",
    "estdf_copy['Lead_city'].fillna(estdf_copy['Lead_city'].mode()[0], inplace=True)\n",
    "\n",
    "\n",
    "# specify the features to label encode\n",
    "features_to_encode = ['Email', 'Leads_Source', 'Sales owner', 'Team', 'Pcrtoduct_interested', 'Lead_State', 'Lead_city', 'page-url', 'Lead_hour', 'Vendor', 'Source']\n",
    "\n",
    "from sklearn.preprocessing import LabelEncoder\n",
    "\n",
    "# create an instance of the LabelEncoder class\n",
    "le = LabelEncoder()\n",
    "\n",
    "# perform label encoding on the specified features\n",
    "for feature in features_to_encode:\n",
    "    estdf_copy[feature] = le.fit_transform(estdf_copy[feature].astype(str))\n",
    "\n"
   ]
  },
  {
   "cell_type": "code",
   "execution_count": 68,
   "id": "600d1c6b",
   "metadata": {
    "execution": {
     "iopub.execute_input": "2023-04-17T13:39:40.103320Z",
     "iopub.status.busy": "2023-04-17T13:39:40.102187Z",
     "iopub.status.idle": "2023-04-17T13:39:40.117807Z",
     "shell.execute_reply": "2023-04-17T13:39:40.116639Z"
    },
    "papermill": {
     "duration": 0.061378,
     "end_time": "2023-04-17T13:39:40.120547",
     "exception": false,
     "start_time": "2023-04-17T13:39:40.059169",
     "status": "completed"
    },
    "tags": []
   },
   "outputs": [
    {
     "data": {
      "text/plain": [
       "Email                   0\n",
       "Leads_Source            0\n",
       "Sales owner             0\n",
       "Team                    0\n",
       "Pcrtoduct_interested    0\n",
       "Lead_State              0\n",
       "Lead_city               0\n",
       "page-url                0\n",
       "Lead_hour               0\n",
       "Accepts Marketing       0\n",
       "Total                   0\n",
       "Discount Amount         0\n",
       "Vendor                  0\n",
       "Outstanding Balance     0\n",
       "Source                  0\n",
       "dtype: int64"
      ]
     },
     "execution_count": 68,
     "metadata": {},
     "output_type": "execute_result"
    }
   ],
   "source": [
    "estdf_copy.isnull().sum()"
   ]
  },
  {
   "cell_type": "code",
   "execution_count": 69,
   "id": "3b1b71fb",
   "metadata": {
    "execution": {
     "iopub.execute_input": "2023-04-17T13:39:40.207665Z",
     "iopub.status.busy": "2023-04-17T13:39:40.207004Z",
     "iopub.status.idle": "2023-04-17T13:39:40.227249Z",
     "shell.execute_reply": "2023-04-17T13:39:40.225275Z"
    },
    "papermill": {
     "duration": 0.066628,
     "end_time": "2023-04-17T13:39:40.230144",
     "exception": false,
     "start_time": "2023-04-17T13:39:40.163516",
     "status": "completed"
    },
    "tags": []
   },
   "outputs": [
    {
     "name": "stdout",
     "output_type": "stream",
     "text": [
      "<class 'pandas.core.frame.DataFrame'>\n",
      "RangeIndex: 63872 entries, 0 to 63871\n",
      "Data columns (total 15 columns):\n",
      " #   Column                Non-Null Count  Dtype  \n",
      "---  ------                --------------  -----  \n",
      " 0   Email                 63872 non-null  int64  \n",
      " 1   Leads_Source          63872 non-null  int64  \n",
      " 2   Sales owner           63872 non-null  int64  \n",
      " 3   Team                  63872 non-null  int64  \n",
      " 4   Pcrtoduct_interested  63872 non-null  int64  \n",
      " 5   Lead_State            63872 non-null  int64  \n",
      " 6   Lead_city             63872 non-null  int64  \n",
      " 7   page-url              63872 non-null  int64  \n",
      " 8   Lead_hour             63872 non-null  int64  \n",
      " 9   Accepts Marketing     63872 non-null  float64\n",
      " 10  Total                 63872 non-null  float64\n",
      " 11  Discount Amount       63872 non-null  float64\n",
      " 12  Vendor                63872 non-null  int64  \n",
      " 13  Outstanding Balance   63872 non-null  float64\n",
      " 14  Source                63872 non-null  int64  \n",
      "dtypes: float64(4), int64(11)\n",
      "memory usage: 7.3 MB\n"
     ]
    }
   ],
   "source": [
    "estdf_copy.info()"
   ]
  },
  {
   "cell_type": "markdown",
   "id": "6c34591c",
   "metadata": {
    "papermill": {
     "duration": 0.042508,
     "end_time": "2023-04-17T13:39:40.314395",
     "exception": false,
     "start_time": "2023-04-17T13:39:40.271887",
     "status": "completed"
    },
    "tags": []
   },
   "source": [
    "# Submissions"
   ]
  },
  {
   "cell_type": "code",
   "execution_count": 70,
   "id": "aaaf9cc2",
   "metadata": {
    "execution": {
     "iopub.execute_input": "2023-04-17T13:39:40.400894Z",
     "iopub.status.busy": "2023-04-17T13:39:40.399372Z",
     "iopub.status.idle": "2023-04-17T13:39:40.434902Z",
     "shell.execute_reply": "2023-04-17T13:39:40.433475Z"
    },
    "papermill": {
     "duration": 0.082347,
     "end_time": "2023-04-17T13:39:40.438168",
     "exception": false,
     "start_time": "2023-04-17T13:39:40.355821",
     "status": "completed"
    },
    "tags": []
   },
   "outputs": [],
   "source": [
    "# predict\n",
    "y_pred_test = nb.predict(estdf_copy)\n",
    "\n",
    "# y_new_pred = rfc2.predict(estdf_copy)"
   ]
  },
  {
   "cell_type": "code",
   "execution_count": 71,
   "id": "d7a0a671",
   "metadata": {
    "execution": {
     "iopub.execute_input": "2023-04-17T13:39:40.524322Z",
     "iopub.status.busy": "2023-04-17T13:39:40.523102Z",
     "iopub.status.idle": "2023-04-17T13:39:40.747511Z",
     "shell.execute_reply": "2023-04-17T13:39:40.746272Z"
    },
    "papermill": {
     "duration": 0.270969,
     "end_time": "2023-04-17T13:39:40.750654",
     "exception": false,
     "start_time": "2023-04-17T13:39:40.479685",
     "status": "completed"
    },
    "tags": []
   },
   "outputs": [
    {
     "data": {
      "image/png": "[encoded data removed]",
      "text/plain": [
       "<Figure size 640x480 with 1 Axes>"
      ]
     },
     "metadata": {},
     "output_type": "display_data"
    }
   ],
   "source": [
    "import numpy as np\n",
    "import matplotlib.pyplot as plt\n",
    "\n",
    "# create histogram of predicted values\n",
    "plt.hist(y_pred_test, bins='auto')\n",
    "plt.title(\"Histogram of predicted values\")\n",
    "plt.show()"
   ]
  },
  {
   "cell_type": "code",
   "execution_count": 72,
   "id": "4fc7c315",
   "metadata": {
    "execution": {
     "iopub.execute_input": "2023-04-17T13:39:40.836896Z",
     "iopub.status.busy": "2023-04-17T13:39:40.836402Z",
     "iopub.status.idle": "2023-04-17T13:39:40.850216Z",
     "shell.execute_reply": "2023-04-17T13:39:40.848804Z"
    },
    "papermill": {
     "duration": 0.060895,
     "end_time": "2023-04-17T13:39:40.853279",
     "exception": false,
     "start_time": "2023-04-17T13:39:40.792384",
     "status": "completed"
    },
    "tags": []
   },
   "outputs": [
    {
     "name": "stdout",
     "output_type": "stream",
     "text": [
      "                                         ID  Status\n",
      "0      7a1c9aae-e9d1-4c8a-ab5b-3561d383abc9       1\n",
      "1      fd301379-2649-4974-b5de-1fcb1b5510bb       1\n",
      "2      d0b958f4-87c4-4ca0-afe5-1acdfc15b6ce       1\n",
      "3      19430ad6-b461-4790-b26b-4b97e3973dec       1\n",
      "4      d999f31e-8106-44b5-a648-ac9718925187       1\n",
      "...                                     ...     ...\n",
      "63867  c06df9c8-de2d-4e2c-a82c-1a5a7bb3d3b3       1\n",
      "63868  873fb54c-67f5-43bd-b0c7-4ef960e988dd       1\n",
      "63869  1e37f9f0-32c4-446a-b528-c0a5820c59fb       1\n",
      "63870  205c02a0-64fe-463d-8dbb-7f4ca234bd1d       1\n",
      "63871  a2867d7b-f94b-46e4-a344-0360f8777272       1\n",
      "\n",
      "[63872 rows x 2 columns]\n"
     ]
    }
   ],
   "source": [
    "# Create a new DataFrame with only ID_column and predicted values\n",
    "submission4_naivebayes = pd.DataFrame({'ID': estdf['ID'], 'Status': y_pred_test})\n",
    "\n",
    "# Print the output\n",
    "print(submission4_naivebayes)\n",
    "\n",
    "# Save the output as a CSV file\n",
    "# submission4_naivebayes.to_csv('submission4_naivebayes.csv', index=False)\n",
    "# \n"
   ]
  },
  {
   "cell_type": "markdown",
   "id": "7a6fd72c",
   "metadata": {
    "papermill": {
     "duration": 0.043036,
     "end_time": "2023-04-17T13:39:40.939755",
     "exception": false,
     "start_time": "2023-04-17T13:39:40.896719",
     "status": "completed"
    },
    "tags": []
   },
   "source": [
    "# Normalization\n"
   ]
  },
  {
   "cell_type": "code",
   "execution_count": 73,
   "id": "a258549c",
   "metadata": {
    "execution": {
     "iopub.execute_input": "2023-04-17T13:39:41.024813Z",
     "iopub.status.busy": "2023-04-17T13:39:41.023867Z",
     "iopub.status.idle": "2023-04-17T13:39:41.043979Z",
     "shell.execute_reply": "2023-04-17T13:39:41.041505Z"
    },
    "papermill": {
     "duration": 0.065723,
     "end_time": "2023-04-17T13:39:41.046728",
     "exception": false,
     "start_time": "2023-04-17T13:39:40.981005",
     "status": "completed"
    },
    "tags": []
   },
   "outputs": [
    {
     "name": "stdout",
     "output_type": "stream",
     "text": [
      "<class 'pandas.core.frame.DataFrame'>\n",
      "RangeIndex: 149032 entries, 0 to 149031\n",
      "Data columns (total 16 columns):\n",
      " #   Column                Non-Null Count   Dtype  \n",
      "---  ------                --------------   -----  \n",
      " 0   Email                 149032 non-null  int64  \n",
      " 1   Leads_Source          149032 non-null  int64  \n",
      " 2   Sales owner           149032 non-null  int64  \n",
      " 3   Team                  149032 non-null  int64  \n",
      " 4   Pcrtoduct_interested  149032 non-null  int64  \n",
      " 5   Lead_State            149032 non-null  int64  \n",
      " 6   Lead_city             149032 non-null  int64  \n",
      " 7   page-url              149032 non-null  int64  \n",
      " 8   Lead_hour             149032 non-null  int64  \n",
      " 9   Accepts Marketing     149032 non-null  float64\n",
      " 10  Total                 149032 non-null  float64\n",
      " 11  Discount Amount       149032 non-null  float64\n",
      " 12  Vendor                149032 non-null  int64  \n",
      " 13  Outstanding Balance   149032 non-null  float64\n",
      " 14  Source                149032 non-null  int64  \n",
      " 15  Status                149032 non-null  int64  \n",
      "dtypes: float64(4), int64(12)\n",
      "memory usage: 18.2 MB\n"
     ]
    }
   ],
   "source": [
    "df_drop_copy.info()"
   ]
  },
  {
   "cell_type": "code",
   "execution_count": 74,
   "id": "9e5e1c90",
   "metadata": {
    "execution": {
     "iopub.execute_input": "2023-04-17T13:39:41.130671Z",
     "iopub.status.busy": "2023-04-17T13:39:41.130211Z",
     "iopub.status.idle": "2023-04-17T13:39:41.140117Z",
     "shell.execute_reply": "2023-04-17T13:39:41.138749Z"
    },
    "papermill": {
     "duration": 0.054728,
     "end_time": "2023-04-17T13:39:41.142847",
     "exception": false,
     "start_time": "2023-04-17T13:39:41.088119",
     "status": "completed"
    },
    "tags": []
   },
   "outputs": [],
   "source": [
    "df_norm=df_drop_copy.copy()"
   ]
  },
  {
   "cell_type": "code",
   "execution_count": 75,
   "id": "2af9a181",
   "metadata": {
    "execution": {
     "iopub.execute_input": "2023-04-17T13:39:41.226283Z",
     "iopub.status.busy": "2023-04-17T13:39:41.225851Z",
     "iopub.status.idle": "2023-04-17T13:39:41.245451Z",
     "shell.execute_reply": "2023-04-17T13:39:41.243949Z"
    },
    "papermill": {
     "duration": 0.064722,
     "end_time": "2023-04-17T13:39:41.248348",
     "exception": false,
     "start_time": "2023-04-17T13:39:41.183626",
     "status": "completed"
    },
    "tags": []
   },
   "outputs": [],
   "source": [
    "from sklearn.preprocessing import StandardScaler\n",
    "\n",
    "# Define the columns to be normalized\n",
    "cols_to_normalize = ['Accepts Marketing', 'Total', 'Discount Amount', 'Outstanding Balance']\n",
    "\n",
    "# Create a StandardScaler object\n",
    "scaler = StandardScaler()\n",
    "\n",
    "# Fit and transform the selected columns\n",
    "df_drop_copy[cols_to_normalize] = scaler.fit_transform(df_drop_copy[cols_to_normalize])\n"
   ]
  },
  {
   "cell_type": "code",
   "execution_count": 76,
   "id": "dc77a461",
   "metadata": {
    "execution": {
     "iopub.execute_input": "2023-04-17T13:39:41.332105Z",
     "iopub.status.busy": "2023-04-17T13:39:41.331678Z",
     "iopub.status.idle": "2023-04-17T13:39:41.430529Z",
     "shell.execute_reply": "2023-04-17T13:39:41.429292Z"
    },
    "papermill": {
     "duration": 0.144472,
     "end_time": "2023-04-17T13:39:41.433380",
     "exception": false,
     "start_time": "2023-04-17T13:39:41.288908",
     "status": "completed"
    },
    "tags": []
   },
   "outputs": [],
   "source": [
    "# NORMALISING ALL COLUMNS\n",
    "\n",
    "from sklearn.preprocessing import StandardScaler\n",
    "\n",
    "# Select the columns to be normalized\n",
    "cols_to_normalize2 = ['Email', 'Leads_Source', 'Sales owner', 'Team', 'Pcrtoduct_interested', 'Lead_State', 'Lead_city', 'page-url', 'Lead_hour', 'Accepts Marketing', 'Total', 'Discount Amount', 'Vendor', 'Outstanding Balance', 'Source']\n",
    "\n",
    "# Create the scaler object\n",
    "scaler2 = StandardScaler()\n",
    "\n",
    "# Fit and transform the selected columns\n",
    "df_norm[cols_to_normalize2] = scaler2.fit_transform(df_norm[cols_to_normalize2])\n"
   ]
  },
  {
   "cell_type": "code",
   "execution_count": 77,
   "id": "a9bf36e9",
   "metadata": {
    "execution": {
     "iopub.execute_input": "2023-04-17T13:39:41.516731Z",
     "iopub.status.busy": "2023-04-17T13:39:41.516333Z",
     "iopub.status.idle": "2023-04-17T13:39:43.466846Z",
     "shell.execute_reply": "2023-04-17T13:39:43.465156Z"
    },
    "papermill": {
     "duration": 1.99869,
     "end_time": "2023-04-17T13:39:43.472697",
     "exception": false,
     "start_time": "2023-04-17T13:39:41.474007",
     "status": "completed"
    },
    "tags": []
   },
   "outputs": [
    {
     "name": "stderr",
     "output_type": "stream",
     "text": [
      "/opt/conda/lib/python3.7/site-packages/sklearn/linear_model/_logistic.py:818: ConvergenceWarning: lbfgs failed to converge (status=1):\n",
      "STOP: TOTAL NO. of ITERATIONS REACHED LIMIT.\n",
      "\n",
      "Increase the number of iterations (max_iter) or scale the data as shown in:\n",
      "    https://scikit-learn.org/stable/modules/preprocessing.html\n",
      "Please also refer to the documentation for alternative solver options:\n",
      "    https://scikit-learn.org/stable/modules/linear_model.html#logistic-regression\n",
      "  extra_warning_msg=_LOGISTIC_SOLVER_CONVERGENCE_MSG,\n"
     ]
    },
    {
     "data": {
      "text/plain": [
       "LogisticRegression()"
      ]
     },
     "execution_count": 77,
     "metadata": {},
     "output_type": "execute_result"
    }
   ],
   "source": [
    "# Separate the features from the target variable\n",
    "X = df_drop_copy.drop(['Status'], axis=1)  # exclude the 'Status' column from features\n",
    "y = df_drop_copy['Status']\n",
    "\n",
    "X_train, X_test, y_train, y_test = train_test_split(X, y, test_size=0.15, random_state=5)\n",
    "\n",
    "from sklearn.linear_model import LogisticRegression\n",
    "model_norm = LogisticRegression()\n",
    "model_norm.fit(X_train, y_train)"
   ]
  },
  {
   "cell_type": "code",
   "execution_count": 78,
   "id": "6107cb0b",
   "metadata": {
    "execution": {
     "iopub.execute_input": "2023-04-17T13:39:43.619748Z",
     "iopub.status.busy": "2023-04-17T13:39:43.619344Z",
     "iopub.status.idle": "2023-04-17T13:39:45.221871Z",
     "shell.execute_reply": "2023-04-17T13:39:45.220178Z"
    },
    "papermill": {
     "duration": 1.649619,
     "end_time": "2023-04-17T13:39:45.225247",
     "exception": false,
     "start_time": "2023-04-17T13:39:43.575628",
     "status": "completed"
    },
    "tags": []
   },
   "outputs": [
    {
     "data": {
      "text/plain": [
       "LogisticRegression()"
      ]
     },
     "execution_count": 78,
     "metadata": {},
     "output_type": "execute_result"
    }
   ],
   "source": [
    "# NORMALISING ALL COLUMNS\n",
    "\n",
    "# Separate the features from the target variable\n",
    "X = df_norm.drop(['Status'], axis=1)  # exclude the 'Status' column from features\n",
    "y = df_norm['Status']\n",
    "\n",
    "X_train, X_test, y_train, y_test = train_test_split(X, y, test_size=0.15, random_state=5)\n",
    "\n",
    "from sklearn.linear_model import LogisticRegression\n",
    "model_norm = LogisticRegression()\n",
    "model_norm.fit(X_train, y_train)"
   ]
  },
  {
   "cell_type": "code",
   "execution_count": 79,
   "id": "eb7a62c9",
   "metadata": {
    "execution": {
     "iopub.execute_input": "2023-04-17T13:39:45.383748Z",
     "iopub.status.busy": "2023-04-17T13:39:45.383344Z",
     "iopub.status.idle": "2023-04-17T13:39:45.462398Z",
     "shell.execute_reply": "2023-04-17T13:39:45.461075Z"
    },
    "papermill": {
     "duration": 0.130392,
     "end_time": "2023-04-17T13:39:45.466533",
     "exception": false,
     "start_time": "2023-04-17T13:39:45.336141",
     "status": "completed"
    },
    "tags": []
   },
   "outputs": [
    {
     "name": "stdout",
     "output_type": "stream",
     "text": [
      "              precision    recall  f1-score   support\n",
      "\n",
      "           0       0.96      1.00      0.98     18493\n",
      "           1       1.00      0.79      0.88      3862\n",
      "\n",
      "    accuracy                           0.96     22355\n",
      "   macro avg       0.98      0.89      0.93     22355\n",
      "weighted avg       0.97      0.96      0.96     22355\n",
      "\n"
     ]
    }
   ],
   "source": [
    "from sklearn.metrics import classification_report\n",
    "y_pred = model_norm.predict(X_test)\n",
    "print(classification_report(y_test, y_pred))"
   ]
  },
  {
   "cell_type": "code",
   "execution_count": 80,
   "id": "c861e48f",
   "metadata": {
    "execution": {
     "iopub.execute_input": "2023-04-17T13:39:45.578416Z",
     "iopub.status.busy": "2023-04-17T13:39:45.577945Z",
     "iopub.status.idle": "2023-04-17T13:39:45.595499Z",
     "shell.execute_reply": "2023-04-17T13:39:45.594180Z"
    },
    "papermill": {
     "duration": 0.062569,
     "end_time": "2023-04-17T13:39:45.597993",
     "exception": false,
     "start_time": "2023-04-17T13:39:45.535424",
     "status": "completed"
    },
    "tags": []
   },
   "outputs": [
    {
     "name": "stdout",
     "output_type": "stream",
     "text": [
      "Accuracy: 0.9634980988593156\n",
      "Recall: 0.7887105126877265\n"
     ]
    }
   ],
   "source": [
    "from sklearn import metrics\n",
    "print(\"Accuracy:\",metrics.accuracy_score(y_test, y_pred))\n",
    "\n",
    "print(\"Recall:\",metrics.recall_score(y_test, y_pred))"
   ]
  },
  {
   "cell_type": "code",
   "execution_count": 81,
   "id": "98dc77ad",
   "metadata": {
    "execution": {
     "iopub.execute_input": "2023-04-17T13:39:45.681239Z",
     "iopub.status.busy": "2023-04-17T13:39:45.680351Z",
     "iopub.status.idle": "2023-04-17T13:39:45.817137Z",
     "shell.execute_reply": "2023-04-17T13:39:45.815729Z"
    },
    "papermill": {
     "duration": 0.18198,
     "end_time": "2023-04-17T13:39:45.820318",
     "exception": false,
     "start_time": "2023-04-17T13:39:45.638338",
     "status": "completed"
    },
    "tags": []
   },
   "outputs": [
    {
     "name": "stdout",
     "output_type": "stream",
     "text": [
      "              precision    recall  f1-score   support\n",
      "\n",
      "           0       0.96      1.00      0.98     18493\n",
      "           1       1.00      0.79      0.88      3862\n",
      "\n",
      "    accuracy                           0.96     22355\n",
      "   macro avg       0.98      0.89      0.93     22355\n",
      "weighted avg       0.97      0.96      0.96     22355\n",
      "\n"
     ]
    }
   ],
   "source": [
    "# NORMALIZING ALL COLUMNS\n",
    "\n",
    "from sklearn.metrics import classification_report\n",
    "y_pred = model_norm.predict(X_test)\n",
    "print(classification_report(y_test, y_pred))"
   ]
  },
  {
   "cell_type": "code",
   "execution_count": 82,
   "id": "b5ca25cd",
   "metadata": {
    "execution": {
     "iopub.execute_input": "2023-04-17T13:39:45.915342Z",
     "iopub.status.busy": "2023-04-17T13:39:45.914061Z",
     "iopub.status.idle": "2023-04-17T13:39:45.930566Z",
     "shell.execute_reply": "2023-04-17T13:39:45.929298Z"
    },
    "papermill": {
     "duration": 0.061681,
     "end_time": "2023-04-17T13:39:45.932983",
     "exception": false,
     "start_time": "2023-04-17T13:39:45.871302",
     "status": "completed"
    },
    "tags": []
   },
   "outputs": [
    {
     "name": "stdout",
     "output_type": "stream",
     "text": [
      "Accuracy: 0.9634980988593156\n",
      "Recall: 0.7887105126877265\n"
     ]
    }
   ],
   "source": [
    "# NORMALISING ALL COLUMNS\n",
    "from sklearn import metrics\n",
    "print(\"Accuracy:\",metrics.accuracy_score(y_test, y_pred))\n",
    "\n",
    "print(\"Recall:\",metrics.recall_score(y_test, y_pred))"
   ]
  },
  {
   "cell_type": "markdown",
   "id": "44b483d8",
   "metadata": {
    "papermill": {
     "duration": 0.041069,
     "end_time": "2023-04-17T13:39:46.088019",
     "exception": false,
     "start_time": "2023-04-17T13:39:46.046950",
     "status": "completed"
    },
    "tags": []
   },
   "source": [
    "**Submission Norm**"
   ]
  },
  {
   "cell_type": "code",
   "execution_count": 83,
   "id": "7b01d876",
   "metadata": {
    "execution": {
     "iopub.execute_input": "2023-04-17T13:39:46.176789Z",
     "iopub.status.busy": "2023-04-17T13:39:46.175816Z",
     "iopub.status.idle": "2023-04-17T13:39:46.193603Z",
     "shell.execute_reply": "2023-04-17T13:39:46.191662Z"
    },
    "papermill": {
     "duration": 0.06854,
     "end_time": "2023-04-17T13:39:46.198553",
     "exception": false,
     "start_time": "2023-04-17T13:39:46.130013",
     "status": "completed"
    },
    "tags": []
   },
   "outputs": [],
   "source": [
    "# predict\n",
    "y_pred_test = model_norm.predict(estdf_copy)"
   ]
  },
  {
   "cell_type": "code",
   "execution_count": 84,
   "id": "1bcd2354",
   "metadata": {
    "execution": {
     "iopub.execute_input": "2023-04-17T13:39:46.352101Z",
     "iopub.status.busy": "2023-04-17T13:39:46.351728Z",
     "iopub.status.idle": "2023-04-17T13:39:46.583989Z",
     "shell.execute_reply": "2023-04-17T13:39:46.582808Z"
    },
    "papermill": {
     "duration": 0.27833,
     "end_time": "2023-04-17T13:39:46.586721",
     "exception": false,
     "start_time": "2023-04-17T13:39:46.308391",
     "status": "completed"
    },
    "tags": []
   },
   "outputs": [
    {
     "data": {
      "image/png": "[encoded data removed]",
      "text/plain": [
       "<Figure size 640x480 with 1 Axes>"
      ]
     },
     "metadata": {},
     "output_type": "display_data"
    }
   ],
   "source": [
    "import numpy as np\n",
    "import matplotlib.pyplot as plt\n",
    "\n",
    "# create histogram of predicted values\n",
    "plt.hist(y_pred_test, bins='auto')\n",
    "plt.title(\"Histogram of predicted values\")\n",
    "plt.show()"
   ]
  },
  {
   "cell_type": "code",
   "execution_count": 85,
   "id": "e726705b",
   "metadata": {
    "execution": {
     "iopub.execute_input": "2023-04-17T13:39:46.672362Z",
     "iopub.status.busy": "2023-04-17T13:39:46.671503Z",
     "iopub.status.idle": "2023-04-17T13:39:46.683801Z",
     "shell.execute_reply": "2023-04-17T13:39:46.682190Z"
    },
    "papermill": {
     "duration": 0.058331,
     "end_time": "2023-04-17T13:39:46.686352",
     "exception": false,
     "start_time": "2023-04-17T13:39:46.628021",
     "status": "completed"
    },
    "tags": []
   },
   "outputs": [
    {
     "name": "stdout",
     "output_type": "stream",
     "text": [
      "                                         ID  Status\n",
      "0      7a1c9aae-e9d1-4c8a-ab5b-3561d383abc9       0\n",
      "1      fd301379-2649-4974-b5de-1fcb1b5510bb       0\n",
      "2      d0b958f4-87c4-4ca0-afe5-1acdfc15b6ce       0\n",
      "3      19430ad6-b461-4790-b26b-4b97e3973dec       0\n",
      "4      d999f31e-8106-44b5-a648-ac9718925187       0\n",
      "...                                     ...     ...\n",
      "63867  c06df9c8-de2d-4e2c-a82c-1a5a7bb3d3b3       0\n",
      "63868  873fb54c-67f5-43bd-b0c7-4ef960e988dd       0\n",
      "63869  1e37f9f0-32c4-446a-b528-c0a5820c59fb       0\n",
      "63870  205c02a0-64fe-463d-8dbb-7f4ca234bd1d       0\n",
      "63871  a2867d7b-f94b-46e4-a344-0360f8777272       0\n",
      "\n",
      "[63872 rows x 2 columns]\n"
     ]
    }
   ],
   "source": [
    "# Create a new DataFrame with only ID_column and predicted values\n",
    "submission6_norm = pd.DataFrame({'ID': estdf['ID'], 'Status': y_pred_test})\n",
    "\n",
    "# Print the output\n",
    "print(submission6_norm)\n",
    "\n",
    "# Save the output as a CSV file\n",
    "# submission5_norm.to_csv('submission6_norm.csv', index=False)\n"
   ]
  },
  {
   "cell_type": "code",
   "execution_count": 86,
   "id": "c6f5766d",
   "metadata": {
    "execution": {
     "iopub.execute_input": "2023-04-17T13:39:46.773178Z",
     "iopub.status.busy": "2023-04-17T13:39:46.772685Z",
     "iopub.status.idle": "2023-04-17T13:39:46.779226Z",
     "shell.execute_reply": "2023-04-17T13:39:46.777661Z"
    },
    "papermill": {
     "duration": 0.053238,
     "end_time": "2023-04-17T13:39:46.781840",
     "exception": false,
     "start_time": "2023-04-17T13:39:46.728602",
     "status": "completed"
    },
    "tags": []
   },
   "outputs": [],
   "source": [
    "# import pandas as pd\n",
    "# from sklearn.model_selection import train_test_split\n",
    "# from sklearn.linear_model import LogisticRegression\n",
    "# from sklearn.metrics import classification_report\n",
    "\n",
    "# # Select the features to one-hot encode\n",
    "# features = ['Email', 'Leads_Source', 'Sales owner', 'Team', 'Pcrtoduct_interested', 'Lead_State', 'Lead_city', 'page-url', 'Lead_hour', 'Vendor', 'Source']\n",
    "\n",
    "# # One-hot encode the features and drop the original columns\n",
    "# df_drop = pd.get_dummies(df, columns=features, drop_first=True)\n",
    "\n",
    "# # Drop any remaining rows with missing values\n",
    "# df_drop.dropna(inplace=True)\n",
    "\n",
    "# # Split the data into training and testing sets\n",
    "# X_train, X_test, y_train, y_test = train_test_split(df_drop.drop('Status', axis=1), df_drop['Status'], test_size=0.2, random_state=42)\n",
    "\n",
    "# # Train a logistic regression model on the training data\n",
    "# model = LogisticRegression()\n",
    "# model.fit(X_train, y_train)\n",
    "\n",
    "# # Evaluate the model on the testing data\n",
    "# y_pred = model.predict(X_test)\n",
    "# print(classification_report(y_test, y_pred))"
   ]
  },
  {
   "cell_type": "code",
   "execution_count": null,
   "id": "6748964e",
   "metadata": {
    "papermill": {
     "duration": 0.042076,
     "end_time": "2023-04-17T13:39:46.865527",
     "exception": false,
     "start_time": "2023-04-17T13:39:46.823451",
     "status": "completed"
    },
    "tags": []
   },
   "outputs": [],
   "source": []
  },
  {
   "cell_type": "markdown",
   "id": "c8edc1d7",
   "metadata": {
    "papermill": {
     "duration": 0.041956,
     "end_time": "2023-04-17T13:39:46.949343",
     "exception": false,
     "start_time": "2023-04-17T13:39:46.907387",
     "status": "completed"
    },
    "tags": []
   },
   "source": []
  },
  {
   "cell_type": "markdown",
   "id": "46d467d6",
   "metadata": {
    "papermill": {
     "duration": 0.041197,
     "end_time": "2023-04-17T13:39:47.032187",
     "exception": false,
     "start_time": "2023-04-17T13:39:46.990990",
     "status": "completed"
    },
    "tags": []
   },
   "source": [
    "how to ignore id column while creating a ml mode without dropping the column"
   ]
  },
  {
   "cell_type": "markdown",
   "id": "8e4acc58",
   "metadata": {
    "papermill": {
     "duration": 0.041635,
     "end_time": "2023-04-17T13:39:47.115398",
     "exception": false,
     "start_time": "2023-04-17T13:39:47.073763",
     "status": "completed"
    },
    "tags": []
   },
   "source": []
  }
 ],
 "metadata": {
  "kernelspec": {
   "display_name": "Python 3",
   "language": "python",
   "name": "python3"
  },
  "language_info": {
   "codemirror_mode": {
    "name": "ipython",
    "version": 3
   },
   "file_extension": ".py",
   "mimetype": "text/x-python",
   "name": "python",
   "nbconvert_exporter": "python",
   "pygments_lexer": "ipython3",
   "version": "3.7.12"
  },
  "papermill": {
   "default_parameters": {},
   "duration": 231.356482,
   "end_time": "2023-04-17T13:39:48.081054",
   "environment_variables": {},
   "exception": null,
   "input_path": "__notebook__.ipynb",
   "output_path": "__notebook__.ipynb",
   "parameters": {},
   "start_time": "2023-04-17T13:35:56.724572",
   "version": "2.4.0"
  }
 },
 "nbformat": 4,
 "nbformat_minor": 5
}
